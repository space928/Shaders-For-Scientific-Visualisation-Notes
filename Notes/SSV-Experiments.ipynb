{
 "cells": [
  {
   "cell_type": "markdown",
   "source": [
    "# Small Experiments Pertaining to Shaders for Scientific Visualisation\n",
    "The contents of this notebook is neither documentation nor does it serve as permanent unit tests for the project. It's purely kept as a record of some of the experimentation done while working on this project."
   ],
   "metadata": {
    "collapsed": false
   },
   "id": "f1cef3c04282936"
  },
  {
   "cell_type": "markdown",
   "source": [
    "### Custom HTML Output in Jupyter"
   ],
   "metadata": {
    "collapsed": false
   },
   "id": "3b79aee7193b8a58"
  },
  {
   "cell_type": "code",
   "execution_count": 2,
   "outputs": [
    {
     "data": {
      "text/plain": "<__main__.CustomHTMLObject at 0x261cbec1820>",
      "text/html": "\n        <div class=\"custom-html-object\">\n            <div style=\"color: #ff2010;font-size: large;\">Custom HTML is cool!</div>\n        </div>"
     },
     "execution_count": 2,
     "metadata": {},
     "output_type": "execute_result"
    }
   ],
   "source": [
    "class CustomHTMLObject:\n",
    "    def __init__(self, name: str, colour: str):\n",
    "        \"\"\"\n",
    "        \n",
    "        :param name: The name of the object\n",
    "        :param colour: The hex colour code of the object (eg: \"#112233\")\n",
    "        \"\"\"\n",
    "        self.name = name\n",
    "        self.colour = colour\n",
    "        \n",
    "    def _repr_html_(self) -> str:\n",
    "        \"\"\"\n",
    "        Hooks into Jupyter notebook rich display system, which calls _repr_html_ by\n",
    "        default if an object is returned at the end of a cell.\n",
    "        \"\"\"\n",
    "        return f\"\"\"\n",
    "        <div class=\"custom-html-object\">\n",
    "            <div style=\"color: {self.colour};font-size: large;\">{self.name}</div>\n",
    "        </div>\"\"\"\n",
    "    \n",
    "# Now return a CustomHTMLObject to the cell\n",
    "CustomHTMLObject(\"Custom HTML is cool!\", \"#ff2010\")"
   ],
   "metadata": {
    "collapsed": false,
    "ExecuteTime": {
     "end_time": "2023-09-18T21:33:33.960781600Z",
     "start_time": "2023-09-18T21:33:33.932855300Z"
    }
   },
   "id": "61d5abcc8c068ff0"
  },
  {
   "cell_type": "code",
   "execution_count": 1,
   "outputs": [
    {
     "name": "stdout",
     "output_type": "stream",
     "text": [
      "Collecting moderngl\n",
      "  Downloading moderngl-5.8.2-cp310-cp310-win_amd64.whl (106 kB)\n",
      "     ---------------------------------------- 0.0/106.8 kB ? eta -:--:--\n",
      "     --- ------------------------------------ 10.2/106.8 kB ? eta -:--:--\n",
      "     -------------------------------------- 106.8/106.8 kB 1.5 MB/s eta 0:00:00\n",
      "Collecting glcontext<3,>=2.3.6 (from moderngl)\n",
      "  Obtaining dependency information for glcontext<3,>=2.3.6 from https://files.pythonhosted.org/packages/75/65/a4cd375ff65099f9b6203a960337c24d21d12162107b0fe4f55dd617d2e8/glcontext-2.4.0-cp310-cp310-win_amd64.whl.metadata\n",
      "  Downloading glcontext-2.4.0-cp310-cp310-win_amd64.whl.metadata (6.3 kB)\n",
      "Downloading glcontext-2.4.0-cp310-cp310-win_amd64.whl (12 kB)\n",
      "Installing collected packages: glcontext, moderngl\n",
      "Successfully installed glcontext-2.4.0 moderngl-5.8.2\n",
      "Note: you may need to restart the kernel to use updated packages.\n"
     ]
    }
   ],
   "source": [
    "%pip install moderngl"
   ],
   "metadata": {
    "collapsed": false,
    "ExecuteTime": {
     "end_time": "2023-10-01T00:49:00.263461700Z",
     "start_time": "2023-10-01T00:48:56.375932Z"
    }
   },
   "id": "f53a29bd86416c6b"
  },
  {
   "cell_type": "code",
   "execution_count": 2,
   "outputs": [],
   "source": [
    "import numpy as np\n",
    "from PIL import Image\n",
    "import moderngl"
   ],
   "metadata": {
    "collapsed": false,
    "ExecuteTime": {
     "end_time": "2023-10-01T00:49:00.749843700Z",
     "start_time": "2023-10-01T00:49:00.264968Z"
    }
   },
   "id": "1a1eb967700a1f7b"
  },
  {
   "cell_type": "code",
   "execution_count": 11,
   "outputs": [
    {
     "name": "stdout",
     "output_type": "stream",
     "text": [
      "Got OpenGL context:\n",
      "\tGL_VENDOR=NVIDIA Corporation\n",
      "\tGL_RENDERER=NVIDIA GeForce GTX 1660 Ti/PCIe/SSE2\n",
      "\tGL_VERSION=3.3.0 NVIDIA 536.23\n",
      "Saving image...\n",
      "Saved to 'openglHeadlessExample.png'!\n"
     ]
    }
   ],
   "source": [
    "# Setup the OpenGL context\n",
    "ctx = moderngl.create_context(standalone=True)\n",
    "print(f\"Got OpenGL context:\\n\\tGL_VENDOR={ctx.info['GL_VENDOR']}\\n\\tGL_RENDERER={ctx.info['GL_RENDERER']}\\n\\tGL_VERSION={ctx.info['GL_VERSION']}\")\n",
    "resolution = (20000, 20000)\n",
    "fbo = ctx.simple_framebuffer(resolution, components=4)\n",
    "fbo.use()\n",
    "\n",
    "# Create a vertex buffer\n",
    "vertices = np.array([\n",
    "   # X      Y      R    G    B\n",
    "    -1.0,  -1.0,   1.0, 0.0, 0.0,\n",
    "     1.0,  -1.0,   0.0, 1.0, 0.0,\n",
    "     0.0,   1.0,   0.0, 0.0, 1.0],\n",
    "    dtype='f4',\n",
    ")\n",
    "\n",
    "prog = ctx.program(vertex_shader=\"\"\"\n",
    "#version 330\n",
    "in vec2 in_vert;\n",
    "in vec3 in_color;\n",
    "out vec3 color;\n",
    "out vec2 position;\n",
    "void main() {\n",
    "    gl_Position = vec4(in_vert, 0.0, 1.0);\n",
    "    color = in_color;\n",
    "    position = in_vert*0.5+0.5;\n",
    "}\n",
    "\"\"\",\n",
    "    fragment_shader=\"\"\"\n",
    "#version 330\n",
    "out vec4 fragColor;\n",
    "in vec3 color;\n",
    "in vec2 position;\n",
    "\n",
    "uniform vec2 iResolution;\n",
    "\n",
    "float amod(float x, float y)\n",
    "{\n",
    "    return x - y * floor(x/y);\n",
    "}\n",
    "\n",
    "vec4 mainImage(in vec2 fragCoord)\n",
    "{\n",
    "    // Normalized pixel coordinates (from 0 to 1)\n",
    "    vec2 uv = fragCoord/iResolution.xy;\n",
    "\n",
    "    float coord = floor(fragCoord.x) + floor(fragCoord.y/10.);\n",
    "    //vec3 col = vec3(amod(coord, 16.)>=8.?1.:0., amod(coord, 32.)>=16.?1.:0., amod(coord, 64.)>=32.?1.:0.);\n",
    "    //col = amod(coord, 128.)>64.?(col*0.3333+.3333):col;\n",
    "\n",
    "    vec3 col = vec3(amod(coord, 64.) >= 56. ? 1. : 0.,\n",
    "                    amod(coord + 16., 64.) >= 56. ? 1. : 0.,\n",
    "                    amod(coord + 32., 64.) >= 56. ? 1. : 0.);\n",
    "    col += amod(coord + 48., 64.) >= 56. ? 1. : 0.;\n",
    "    col = amod(coord, 128.) > 64. ? (col * 0.3333 + .3333) : col;\n",
    "\n",
    "    // Output to screen\n",
    "    return vec4(col,1.0);\n",
    "}\n",
    "\n",
    "void main() {\n",
    "    fragColor = mainImage(position * iResolution) + vec4(color, 1.0)*0.01;\n",
    "    //fragColor = vec4(color, 1.0);\n",
    "}\n",
    "\"\"\",\n",
    ")\n",
    "\n",
    "# Set uniforms\n",
    "prog[\"iResolution\"].value = resolution\n",
    "\n",
    "# Assign buffers and render\n",
    "vao = ctx.simple_vertex_array(prog, ctx.buffer(vertices), 'in_vert', 'in_color')\n",
    "vao.render(mode=moderngl.TRIANGLES)\n",
    "\n",
    "# Save output to png\n",
    "print(\"Saving image...\")\n",
    "image = Image.frombytes('RGBA', resolution, fbo.read(components=4))\n",
    "image = image.transpose(Image.FLIP_TOP_BOTTOM)\n",
    "image.save('openglHeadlessExample.png', format='png')\n",
    "print(f\"Saved to 'openglHeadlessExample.png'!\")"
   ],
   "metadata": {
    "collapsed": false,
    "ExecuteTime": {
     "end_time": "2023-10-01T01:03:30.367332Z",
     "start_time": "2023-10-01T01:03:15.043211300Z"
    }
   },
   "id": "38b39d09701ef31f"
  },
  {
   "cell_type": "code",
   "execution_count": null,
   "outputs": [],
   "source": [],
   "metadata": {
    "collapsed": false
   },
   "id": "6dd445401292c25e"
  }
 ],
 "metadata": {
  "kernelspec": {
   "display_name": "Python 3",
   "language": "python",
   "name": "python3"
  },
  "language_info": {
   "codemirror_mode": {
    "name": "ipython",
    "version": 2
   },
   "file_extension": ".py",
   "mimetype": "text/x-python",
   "name": "python",
   "nbconvert_exporter": "python",
   "pygments_lexer": "ipython2",
   "version": "2.7.6"
  }
 },
 "nbformat": 4,
 "nbformat_minor": 5
}
