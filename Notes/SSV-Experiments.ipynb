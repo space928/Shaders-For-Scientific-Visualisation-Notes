{
 "cells": [
  {
   "cell_type": "markdown",
   "source": [
    "# Small Experiments Pertaining to Shaders for Scientific Visualisation\n",
    "The contents of this notebook is neither documentation nor does it serve as permanent unit tests for the project. It's purely kept as a record of some of the experimentation done while working on this project."
   ],
   "metadata": {
    "collapsed": false
   },
   "id": "f1cef3c04282936"
  },
  {
   "cell_type": "markdown",
   "source": [
    "### Custom HTML Output in Jupyter"
   ],
   "metadata": {
    "collapsed": false
   },
   "id": "3b79aee7193b8a58"
  },
  {
   "cell_type": "code",
   "execution_count": 2,
   "outputs": [
    {
     "data": {
      "text/plain": "<__main__.CustomHTMLObject at 0x261cbec1820>",
      "text/html": "\n        <div class=\"custom-html-object\">\n            <div style=\"color: #ff2010;font-size: large;\">Custom HTML is cool!</div>\n        </div>"
     },
     "execution_count": 2,
     "metadata": {},
     "output_type": "execute_result"
    }
   ],
   "source": [
    "class CustomHTMLObject:\n",
    "    def __init__(self, name: str, colour: str):\n",
    "        \"\"\"\n",
    "        \n",
    "        :param name: The name of the object\n",
    "        :param colour: The hex colour code of the object (eg: \"#112233\")\n",
    "        \"\"\"\n",
    "        self.name = name\n",
    "        self.colour = colour\n",
    "        \n",
    "    def _repr_html_(self) -> str:\n",
    "        \"\"\"\n",
    "        Hooks into Jupyter notebook rich display system, which calls _repr_html_ by\n",
    "        default if an object is returned at the end of a cell.\n",
    "        \"\"\"\n",
    "        return f\"\"\"\n",
    "        <div class=\"custom-html-object\">\n",
    "            <div style=\"color: {self.colour};font-size: large;\">{self.name}</div>\n",
    "        </div>\"\"\"\n",
    "    \n",
    "# Now return a CustomHTMLObject to the cell\n",
    "CustomHTMLObject(\"Custom HTML is cool!\", \"#ff2010\")"
   ],
   "metadata": {
    "collapsed": false,
    "ExecuteTime": {
     "end_time": "2023-09-18T21:33:33.960781600Z",
     "start_time": "2023-09-18T21:33:33.932855300Z"
    }
   },
   "id": "61d5abcc8c068ff0"
  },
  {
   "cell_type": "markdown",
   "source": [
    "### Running OpenGL Headless"
   ],
   "metadata": {
    "collapsed": false
   },
   "id": "a5562aac2dc26a64"
  },
  {
   "cell_type": "code",
   "execution_count": 1,
   "outputs": [
    {
     "name": "stdout",
     "output_type": "stream",
     "text": [
      "Collecting moderngl\n",
      "  Downloading moderngl-5.8.2-cp310-cp310-win_amd64.whl (106 kB)\n",
      "     ---------------------------------------- 0.0/106.8 kB ? eta -:--:--\n",
      "     --- ------------------------------------ 10.2/106.8 kB ? eta -:--:--\n",
      "     -------------------------------------- 106.8/106.8 kB 1.5 MB/s eta 0:00:00\n",
      "Collecting glcontext<3,>=2.3.6 (from moderngl)\n",
      "  Obtaining dependency information for glcontext<3,>=2.3.6 from https://files.pythonhosted.org/packages/75/65/a4cd375ff65099f9b6203a960337c24d21d12162107b0fe4f55dd617d2e8/glcontext-2.4.0-cp310-cp310-win_amd64.whl.metadata\n",
      "  Downloading glcontext-2.4.0-cp310-cp310-win_amd64.whl.metadata (6.3 kB)\n",
      "Downloading glcontext-2.4.0-cp310-cp310-win_amd64.whl (12 kB)\n",
      "Installing collected packages: glcontext, moderngl\n",
      "Successfully installed glcontext-2.4.0 moderngl-5.8.2\n",
      "Note: you may need to restart the kernel to use updated packages.\n"
     ]
    }
   ],
   "source": [
    "%pip install moderngl"
   ],
   "metadata": {
    "collapsed": false,
    "ExecuteTime": {
     "end_time": "2023-10-01T00:49:00.263461700Z",
     "start_time": "2023-10-01T00:48:56.375932Z"
    }
   },
   "id": "f53a29bd86416c6b"
  },
  {
   "cell_type": "code",
   "execution_count": 1,
   "outputs": [],
   "source": [
    "import numpy as np\n",
    "from PIL import Image\n",
    "import moderngl"
   ],
   "metadata": {
    "collapsed": false,
    "ExecuteTime": {
     "end_time": "2023-10-10T08:58:35.861473500Z",
     "start_time": "2023-10-10T08:58:35.736040800Z"
    }
   },
   "id": "1a1eb967700a1f7b"
  },
  {
   "cell_type": "code",
   "execution_count": 34,
   "outputs": [],
   "source": [
    "# This snippet for detecting the python environment is taken from: https://github.com/InsightSoftwareConsortium/itkwidgets/blob/main/itkwidgets/integrations/environment.py\n",
    "# Licensed under the Apache License 2.0: https://github.com/InsightSoftwareConsortium/itkwidgets/blob/main/LICENSE\n",
    "from enum import Enum\n",
    "from importlib import import_module\n",
    "import sys\n",
    "\n",
    "\n",
    "class Env(Enum):\n",
    "    JUPYTER_NOTEBOOK = 'notebook'\n",
    "    JUPYTERLAB = 'lab'\n",
    "    JUPYTERLITE = 'lite'\n",
    "    SAGEMAKER = 'sagemaker'\n",
    "    HYPHA = 'hypha'\n",
    "    COLAB = 'colab'\n",
    "\n",
    "\n",
    "def find_env():\n",
    "    try:\n",
    "        from google.colab import files\n",
    "        return Env.COLAB\n",
    "    except:\n",
    "        try:\n",
    "            from IPython import get_ipython\n",
    "            parent_header = get_ipython().parent_header\n",
    "            username = parent_header['header']['username']\n",
    "            if username == '':\n",
    "                return Env.JUPYTERLAB\n",
    "            elif username == 'username':\n",
    "                return Env.JUPYTER_NOTEBOOK\n",
    "            else:\n",
    "                return Env.SAGEMAKER\n",
    "        except:\n",
    "            import sys\n",
    "            if sys.platform == 'emscripten':\n",
    "                return Env.JUPYTERLITE\n",
    "            return Env.HYPHA\n",
    "\n",
    "\n",
    "ENVIRONMENT = find_env()"
   ],
   "metadata": {
    "collapsed": false,
    "ExecuteTime": {
     "end_time": "2023-10-01T02:11:47.135207600Z",
     "start_time": "2023-10-01T02:11:47.113566800Z"
    }
   },
   "id": "a28025b37976a22c"
  },
  {
   "cell_type": "code",
   "execution_count": 35,
   "outputs": [
    {
     "name": "stdout",
     "output_type": "stream",
     "text": [
      "Got OpenGL context:\n",
      "\tGL_VENDOR=NVIDIA Corporation\n",
      "\tGL_RENDERER=NVIDIA GeForce GTX 1660 Ti/PCIe/SSE2\n",
      "\tGL_VERSION=3.3.0 NVIDIA 536.23\n",
      "{'GL_ALIASED_LINE_WIDTH_RANGE': (1.0, 10.0),\n",
      " 'GL_CONTEXT_PROFILE_MASK': 1,\n",
      " 'GL_DOUBLEBUFFER': True,\n",
      " 'GL_MAJOR_VERSION': 3,\n",
      " 'GL_MAX_3D_TEXTURE_SIZE': 16384,\n",
      " 'GL_MAX_ARRAY_TEXTURE_LAYERS': 2048,\n",
      " 'GL_MAX_CLIP_DISTANCES': 8,\n",
      " 'GL_MAX_COLOR_ATTACHMENTS': 8,\n",
      " 'GL_MAX_COLOR_TEXTURE_SAMPLES': 32,\n",
      " 'GL_MAX_COMBINED_FRAGMENT_UNIFORM_COMPONENTS': 233472,\n",
      " 'GL_MAX_COMBINED_GEOMETRY_UNIFORM_COMPONENTS': 231424,\n",
      " 'GL_MAX_COMBINED_TEXTURE_IMAGE_UNITS': 192,\n",
      " 'GL_MAX_COMBINED_UNIFORM_BLOCKS': 84,\n",
      " 'GL_MAX_COMBINED_VERTEX_UNIFORM_COMPONENTS': 233472,\n",
      " 'GL_MAX_CUBE_MAP_TEXTURE_SIZE': 32768,\n",
      " 'GL_MAX_DEPTH_TEXTURE_SAMPLES': 32,\n",
      " 'GL_MAX_DRAW_BUFFERS': 8,\n",
      " 'GL_MAX_DUAL_SOURCE_DRAW_BUFFERS': 1,\n",
      " 'GL_MAX_ELEMENTS_INDICES': 1048576,\n",
      " 'GL_MAX_ELEMENTS_VERTICES': 1048576,\n",
      " 'GL_MAX_FRAGMENT_INPUT_COMPONENTS': 128,\n",
      " 'GL_MAX_FRAGMENT_UNIFORM_BLOCKS': 14,\n",
      " 'GL_MAX_FRAGMENT_UNIFORM_COMPONENTS': 4096,\n",
      " 'GL_MAX_FRAGMENT_UNIFORM_VECTORS': 1024,\n",
      " 'GL_MAX_GEOMETRY_INPUT_COMPONENTS': 128,\n",
      " 'GL_MAX_GEOMETRY_OUTPUT_COMPONENTS': 128,\n",
      " 'GL_MAX_GEOMETRY_OUTPUT_VERTICES': 1024,\n",
      " 'GL_MAX_GEOMETRY_TEXTURE_IMAGE_UNITS': 32,\n",
      " 'GL_MAX_GEOMETRY_UNIFORM_BLOCKS': 14,\n",
      " 'GL_MAX_GEOMETRY_UNIFORM_COMPONENTS': 2048,\n",
      " 'GL_MAX_INTEGER_SAMPLES': 32,\n",
      " 'GL_MAX_PROGRAM_TEXEL_OFFSET': 7.0,\n",
      " 'GL_MAX_RECTANGLE_TEXTURE_SIZE': 32768,\n",
      " 'GL_MAX_RENDERBUFFER_SIZE': 32768,\n",
      " 'GL_MAX_SAMPLES': 32,\n",
      " 'GL_MAX_SAMPLE_MASK_WORDS': 2,\n",
      " 'GL_MAX_SERVER_WAIT_TIMEOUT': -1,\n",
      " 'GL_MAX_TEXTURE_BUFFER_SIZE': 134217728,\n",
      " 'GL_MAX_TEXTURE_IMAGE_UNITS': 32,\n",
      " 'GL_MAX_TEXTURE_LOD_BIAS': 15,\n",
      " 'GL_MAX_TEXTURE_SIZE': 32768,\n",
      " 'GL_MAX_UNIFORM_BLOCK_SIZE': 65536,\n",
      " 'GL_MAX_UNIFORM_BUFFER_BINDINGS': 84,\n",
      " 'GL_MAX_VARYING_VECTORS': 31,\n",
      " 'GL_MAX_VERTEX_ATTRIBS': 16,\n",
      " 'GL_MAX_VERTEX_OUTPUT_COMPONENTS': 128,\n",
      " 'GL_MAX_VERTEX_TEXTURE_IMAGE_UNITS': 32,\n",
      " 'GL_MAX_VERTEX_UNIFORM_BLOCKS': 14,\n",
      " 'GL_MAX_VERTEX_UNIFORM_COMPONENTS': 4096,\n",
      " 'GL_MAX_VERTEX_UNIFORM_VECTORS': 1024,\n",
      " 'GL_MAX_VIEWPORT_DIMS': (32768, 32768),\n",
      " 'GL_MINOR_VERSION': 3,\n",
      " 'GL_MIN_PROGRAM_TEXEL_OFFSET': -8.0,\n",
      " 'GL_POINT_FADE_THRESHOLD_SIZE': 1.0,\n",
      " 'GL_POINT_SIZE_GRANULARITY': 0.125,\n",
      " 'GL_POINT_SIZE_RANGE': (1.0, 2047.0),\n",
      " 'GL_RENDERER': 'NVIDIA GeForce GTX 1660 Ti/PCIe/SSE2',\n",
      " 'GL_SAMPLE_BUFFERS': 0,\n",
      " 'GL_SMOOTH_LINE_WIDTH_GRANULARITY': 0.125,\n",
      " 'GL_SMOOTH_LINE_WIDTH_RANGE': (0.5, 10.0),\n",
      " 'GL_STEREO': False,\n",
      " 'GL_SUBPIXEL_BITS': 8,\n",
      " 'GL_UNIFORM_BUFFER_OFFSET_ALIGNMENT': 256,\n",
      " 'GL_VENDOR': 'NVIDIA Corporation',\n",
      " 'GL_VERSION': '3.3.0 NVIDIA 536.23'}\n",
      "Saving image...\n",
      "Saved to 'openglHeadlessExample.png'!\n"
     ]
    }
   ],
   "source": [
    "# Setup the OpenGL context\n",
    "if ENVIRONMENT == Env.COLAB:\n",
    "    # In Google Colab we need to explicitly specify the EGL backend, otherwise it tries (and fails) to use X11\n",
    "    ctx = moderngl.create_context(standalone=True, backend=\"egl\")\n",
    "else:\n",
    "    # Otherwise let ModernGL try to automatically determine the correct backend\n",
    "    ctx = moderngl.create_context(standalone=True)\n",
    "print(f\"Got OpenGL context:\\n\\tGL_VENDOR={ctx.info['GL_VENDOR']}\\n\\tGL_RENDERER={ctx.info['GL_RENDERER']}\\n\\tGL_VERSION={ctx.info['GL_VERSION']}\")\n",
    "from pprint import pprint\n",
    "pprint(ctx.info)\n",
    "\n",
    "resolution = (min(1024, ctx.info[\"GL_MAX_VIEWPORT_DIMS\"][0]), \n",
    "              min(1024, ctx.info[\"GL_MAX_VIEWPORT_DIMS\"][1]))\n",
    "fbo = ctx.simple_framebuffer(resolution, components=4)\n",
    "fbo.use()\n",
    "\n",
    "# Create a vertex buffer\n",
    "vertices = np.array([\n",
    "   # X      Y      R    G    B\n",
    "    -1.0,  -1.0,   1.0, 0.0, 0.0,\n",
    "     1.0,  -1.0,   0.0, 1.0, 0.0,\n",
    "     0.0,   1.0,   0.0, 0.0, 1.0],\n",
    "    dtype='f4',\n",
    ")\n",
    "\n",
    "prog = ctx.program(vertex_shader=\"\"\"\n",
    "#version 330\n",
    "in vec2 in_vert;\n",
    "in vec3 in_color;\n",
    "out vec3 color;\n",
    "out vec2 position;\n",
    "void main() {\n",
    "    gl_Position = vec4(in_vert, 0.0, 1.0);\n",
    "    color = in_color;\n",
    "    position = in_vert*0.5+0.5;\n",
    "}\n",
    "\"\"\",\n",
    "    fragment_shader=\"\"\"\n",
    "#version 330\n",
    "out vec4 fragColor;\n",
    "in vec3 color;\n",
    "in vec2 position;\n",
    "\n",
    "uniform vec2 iResolution;\n",
    "\n",
    "float amod(float x, float y)\n",
    "{\n",
    "    return x - y * floor(x/y);\n",
    "}\n",
    "\n",
    "vec4 mainImage(in vec2 fragCoord)\n",
    "{\n",
    "    // Normalized pixel coordinates (from 0 to 1)\n",
    "    vec2 uv = fragCoord/iResolution.xy;\n",
    "\n",
    "    float coord = floor(fragCoord.x) + floor(fragCoord.y/10.);\n",
    "    //vec3 col = vec3(amod(coord, 16.)>=8.?1.:0., amod(coord, 32.)>=16.?1.:0., amod(coord, 64.)>=32.?1.:0.);\n",
    "    //col = amod(coord, 128.)>64.?(col*0.3333+.3333):col;\n",
    "\n",
    "    vec3 col = vec3(amod(coord, 64.) >= 56. ? 1. : 0.,\n",
    "                    amod(coord + 16., 64.) >= 56. ? 1. : 0.,\n",
    "                    amod(coord + 32., 64.) >= 56. ? 1. : 0.);\n",
    "    col += amod(coord + 48., 64.) >= 56. ? 1. : 0.;\n",
    "    col = amod(coord, 128.) > 64. ? (col * 0.3333 + .3333) : col;\n",
    "\n",
    "    // Output to screen\n",
    "    return vec4(col,1.0);\n",
    "}\n",
    "\n",
    "void main() {\n",
    "    fragColor = mainImage(position * iResolution) + vec4(color, 1.0)*0.01;\n",
    "    //fragColor = vec4(color, 1.0);\n",
    "}\n",
    "\"\"\",\n",
    ")\n",
    "\n",
    "# Set uniforms\n",
    "prog[\"iResolution\"].value = resolution\n",
    "\n",
    "# Assign buffers and render\n",
    "vao = ctx.simple_vertex_array(prog, ctx.buffer(vertices), 'in_vert', 'in_color')\n",
    "vao.render(mode=moderngl.TRIANGLES)\n",
    "\n",
    "# Save output to png\n",
    "print(\"Saving image...\")\n",
    "image = Image.frombytes('RGBA', resolution, fbo.read(components=4))\n",
    "image = image.transpose(Image.FLIP_TOP_BOTTOM)\n",
    "image.save('openglHeadlessExample.png', format='png')\n",
    "print(f\"Saved to 'openglHeadlessExample.png'!\")"
   ],
   "metadata": {
    "collapsed": false,
    "ExecuteTime": {
     "end_time": "2023-10-01T02:11:47.773191600Z",
     "start_time": "2023-10-01T02:11:47.687710900Z"
    }
   },
   "id": "38b39d09701ef31f"
  },
  {
   "cell_type": "code",
   "execution_count": 37,
   "outputs": [
    {
     "name": "stdout",
     "output_type": "stream",
     "text": [
      "{'GL_ARB_texture_non_power_of_two', 'GL_NV_timeline_semaphore', 'GL_SGIS_texture_lod', 'GL_EXT_gpu_program_parameters', 'GL_EXT_draw_instanced', 'GL_ARB_texture_env_dot3', 'GL_EXT_shader_image_load_formatted', 'GL_ARB_transpose_matrix', 'GL_EXT_memory_object', 'GL_NV_fragment_shader_interlock', 'GL_ARB_texture_filter_minmax', 'GL_ARB_internalformat_query2', 'GL_NV_transform_feedback2', 'GL_NV_memory_attachment', 'GL_ARB_robust_buffer_access_behavior', 'GL_ARB_polygon_offset_clamp', 'GL_NV_depth_buffer_float', 'GL_ARB_draw_buffers_blend', 'GL_NV_blend_square', 'GL_EXT_fog_coord', 'GL_EXT_pixel_buffer_object', 'GL_ARB_copy_image', 'GL_ARB_seamless_cubemap_per_texture', 'GL_NVX_linked_gpu_multicast', 'GL_ARB_depth_clamp', 'GL_NV_point_sprite', 'GL_NV_half_float', 'GL_ARB_timer_query', 'GL_ARB_post_depth_coverage', 'GL_ARB_shader_precision', 'GL_ARB_shader_viewport_layer_array', 'GL_ARB_occlusion_query', 'GL_NV_shader_atomic_fp16_vector', 'GL_EXT_blend_func_separate', 'GL_EXT_texture_shadow_lod', 'GL_NV_blend_equation_advanced', 'GL_ARB_shader_objects', 'GL_EXT_framebuffer_multisample_blit_scaled', 'GL_ARB_compute_variable_group_size', 'GL_NV_parameter_buffer_object2', 'GL_EXT_direct_state_access', 'GL_NVX_conditional_render', 'GL_ARB_shader_clock', 'GL_NV_internalformat_sample_query', 'GL_NVX_gpu_multicast2', 'GL_ARB_derivative_control', 'GL_ARB_tessellation_shader', 'GL_EXT_separate_shader_objects', 'GL_EXT_texture_storage', 'GL_NV_vertex_program2', 'GL_EXT_texture_compression_latc', 'GL_NV_shader_atomic_counters', 'WGL_EXT_swap_control', 'GL_EXT_multi_draw_arrays', 'GL_EXT_packed_float', 'GL_ARB_pixel_buffer_object', 'GL_ARB_shader_draw_parameters', 'GL_ARB_compute_shader', 'GL_ARB_indirect_parameters', 'GL_EXT_blend_color', 'GL_EXT_shader_image_load_store', 'GL_ARB_spirv_extensions', 'GL_ARB_texture_border_clamp', 'GL_EXT_texture_edge_clamp', 'GL_EXT_shadow_funcs', 'GL_ARB_texture_filter_anisotropic', 'GL_EXT_import_sync_object', 'GL_EXT_draw_range_elements', 'GL_EXT_texture_filter_minmax', 'GL_NV_register_combiners2', 'GL_ARB_fragment_layer_viewport', 'GL_NV_gpu_program4_1', 'GL_ARB_map_buffer_range', 'GL_NV_shading_rate_image', 'GL_WIN_swap_hint', 'GL_EXT_stencil_wrap', 'GL_EXT_semaphore', 'GL_ARB_window_pos', 'GL_NV_viewport_array2', 'GL_ARB_texture_env_combine', 'GL_ARB_fragment_coord_conventions', 'GL_ATI_texture_float', 'GL_ARB_transform_feedback2', 'GL_EXT_packed_pixels', 'GL_ARB_vertex_array_object', 'GL_EXT_multiview_texture_multisample', 'GL_EXT_texture_object', 'GL_EXTX_framebuffer_mixed_formats', 'GL_ATI_draw_buffers', 'GL_NV_framebuffer_multisample_coverage', 'GL_NV_mesh_shader', 'GL_NV_gpu_program4', 'GL_ARB_multi_draw_indirect', 'GL_ARB_shadow', 'GL_SUN_slice_accum', 'GL_ARB_seamless_cube_map', 'GL_NV_memory_object_sparse', 'GL_NV_path_rendering', 'GL_NV_alpha_to_coverage_dither_control', 'GL_ARB_conservative_depth', 'GL_NV_gpu_shader5', 'GL_EXT_vertex_array_bgra', 'GL_ARB_texture_barrier', 'GL_EXT_framebuffer_multisample', 'GL_NV_float_buffer', 'GL_ARB_shader_texture_lod', 'GL_ARB_texture_storage', 'GL_NV_compute_shader_derivatives', 'GL_ARB_ES3_1_compatibility', 'GL_NV_command_list', 'GL_NV_compute_program5', 'GL_ARB_query_buffer_object', 'GL_ARB_vertex_attrib_binding', 'GL_EXT_bindable_uniform', 'GL_NV_fragment_shader_barycentric', 'GL_ARB_explicit_attrib_location', 'GL_NV_explicit_multisample', 'GL_NV_fragment_coverage_to_color', 'GL_NV_fill_rectangle', 'GL_ARB_depth_texture', 'GL_NV_viewport_swizzle', 'GL_EXT_texture_mirror_clamp', 'GL_NV_fragment_program2', 'GL_EXT_texture_env_add', 'GL_EXT_transform_feedback2', 'GL_NV_pixel_data_range', 'GL_NV_clip_space_w_scaling', 'GL_ARB_framebuffer_object', 'GL_ARB_parallel_shader_compile', 'GL_ARB_transform_feedback3', 'GL_AMD_vertex_shader_viewport_index', 'GL_ARB_texture_buffer_object', 'GL_NV_vertex_program2_option', 'GL_NV_packed_depth_stencil', 'GL_KHR_no_error', 'GL_ARB_draw_buffers', 'GL_NV_depth_clamp', 'GL_ARB_texture_query_lod', 'GL_NV_query_resource_tag', 'GL_NV_texture_rectangle', 'GL_ARB_vertex_attrib_64bit', 'GL_ARB_texture_buffer_object_rgb32', 'GL_ARB_draw_instanced', 'GL_NV_texture_barrier', 'GL_IBM_rasterpos_clip', 'GL_ARB_texture_swizzle', 'GL_ARB_arrays_of_arrays', 'GL_NVX_gpu_memory_info', 'GL_ARB_enhanced_layouts', 'GL_KHR_parallel_shader_compile', 'GL_ARB_texture_float', 'GL_EXT_texture_shared_exponent', 'GL_ARB_shader_group_vote', 'GL_NV_bindless_multi_draw_indirect_count', 'GL_NV_multisample_coverage', 'GL_ARB_framebuffer_no_attachments', 'GL_ARB_vertex_type_10f_11f_11f_rev', 'GL_NV_conservative_raster_pre_snap', 'GL_EXT_window_rectangles', 'GL_NV_uniform_buffer_std430_layout', 'GL_NV_feature_query', 'GL_SGIS_generate_mipmap', 'GL_EXT_provoking_vertex', 'GL_ARB_draw_elements_base_vertex', 'GL_EXT_framebuffer_blit', 'GL_EXT_packed_depth_stencil', 'GL_ARB_robustness', 'GL_NV_texture_rectangle_compressed', 'GL_KHR_blend_equation_advanced_coherent', 'GL_AMD_vertex_shader_layer', 'GL_NVX_blend_equation_advanced_multi_draw_buffers', 'GL_EXT_polygon_offset_clamp', 'GL_NV_draw_vulkan_image', 'GL_ARB_texture_rgb10_a2ui', 'GL_ARB_depth_buffer_float', 'GL_NV_ES1_1_compatibility', 'GL_NV_framebuffer_mixed_samples', 'GL_OVR_multiview', 'GL_ARB_sparse_buffer', 'GL_NV_fragment_program', 'GL_NV_draw_texture', 'GL_ARB_get_texture_sub_image', 'GL_NV_shader_subgroup_partitioned', 'GL_NV_vertex_attrib_integer_64bit', 'GL_KHR_robust_buffer_access_behavior', 'GL_ARB_clear_buffer_object', 'GL_NV_shader_atomic_float', 'GL_ARB_sampler_objects', 'GL_ARB_conditional_render_inverted', 'GL_ARB_texture_gather', 'GL_ARB_viewport_array', 'GL_ARB_fragment_shader_interlock', 'GL_EXT_sparse_texture2', 'GL_ARB_texture_compression', 'GL_NV_conservative_raster_pre_snap_triangles', 'GL_NV_blend_equation_advanced_coherent', 'GL_NV_texgen_reflection', 'GL_NV_fog_distance', 'GL_EXT_texture_lod_bias', 'GL_NV_parameter_buffer_object', 'GL_ARB_shader_image_load_store', 'GL_NV_path_rendering_shared_edge', 'GL_ARB_texture_cube_map_array', 'GL_OVR_multiview2', 'GL_AMD_seamless_cubemap_per_texture', 'GL_ARB_separate_shader_objects', 'GL_ARB_fragment_program_shadow', 'GL_EXT_post_depth_coverage', 'GL_EXT_shader_integer_mix', 'GL_EXT_texture_cube_map', 'GL_NV_texture_env_combine4', 'GL_ARB_shading_language_packing', 'GL_EXT_memory_object_win32', 'GL_ARB_ES3_2_compatibility', 'GL_NV_vertex_program', 'GL_NV_gpu_multicast', 'GL_EXT_texture_env_combine', 'GL_NV_shader_thread_shuffle', 'GL_ARB_shader_texture_image_samples', 'GL_KHR_context_flush_control', 'GL_NV_conditional_render', 'GL_NV_fragment_program_option', 'GL_ARB_transform_feedback_instanced', 'GL_NV_copy_depth_to_color', 'GL_ARB_shading_language_100', 'GL_NV_sample_locations', 'GL_NV_texture_shader2', 'GL_ARB_gpu_shader_int64', 'GL_ARB_texture_buffer_range', 'GL_ATI_texture_mirror_once', 'GL_NV_conservative_raster_dilate', 'GL_NV_query_resource', 'GL_IBM_texture_mirrored_repeat', 'GL_NV_shader_atomic_int64', 'GL_ARB_texture_view', 'GL_EXT_framebuffer_object', 'GL_ARB_sync', 'GL_ARB_compressed_texture_pixel_storage', 'GL_ARB_sparse_texture2', 'GL_ARB_draw_indirect', 'GL_NV_conservative_raster', 'GL_ARB_texture_env_add', 'GL_EXT_vertex_attrib_64bit', 'GL_EXT_texture_array', 'GL_ARB_texture_query_levels', 'GL_ARB_debug_output', 'GL_ARB_buffer_storage', 'GL_ARB_pipeline_statistics_query', 'GL_EXT_draw_buffers2', 'GL_NV_geometry_shader4', 'GL_KTX_buffer_region', 'GL_SGIX_depth_texture', 'GL_AMD_multi_draw_indirect', 'GL_KHR_debug', 'GL_ARB_shader_subroutine', 'GL_EXT_texture_compression_rgtc', 'GL_EXT_depth_bounds_test', 'GL_ARB_shading_language_include', 'GL_NVX_progress_fence', 'GL_ARB_color_buffer_float', 'GL_EXT_gpu_shader4', 'GL_ARB_transform_feedback_overflow_query', 'GL_ARB_vertex_program', 'GL_NV_stereo_view_rendering', 'GL_ARB_multitexture', 'GL_NV_scissor_exclusive', 'GL_ARB_vertex_type_2_10_10_10_rev', 'GL_ARB_clear_texture', 'GL_EXT_timer_query', 'GL_EXT_texture_lod', 'GL_ARB_shader_ballot', 'GL_NVX_nvenc_interop', 'GL_ARB_sample_locations', 'GL_ARB_gpu_shader_fp64', 'GL_EXT_Cg_shader', 'GL_NV_multisample_filter_hint', 'GL_EXT_texture3D', 'GL_ARB_provoking_vertex', 'GL_NV_shader_thread_group', 'GL_ARB_occlusion_query2', 'GL_EXT_separate_specular_color', 'GL_EXT_point_parameters', 'GL_NV_gpu_program5_mem_extended', 'GL_ARB_texture_mirrored_repeat', 'GL_EXT_framebuffer_sRGB', 'GL_ARB_base_instance', 'GL_ARB_half_float_pixel', 'GL_ARB_point_sprite', 'GL_S3_s3tc', 'GL_ARB_instanced_arrays', 'GL_EXT_geometry_shader4', 'GL_ARB_texture_cube_map', 'GL_ARB_fragment_shader', 'GL_NV_vertex_program1_1', 'GL_NV_occlusion_query', 'GL_ARB_texture_env_crossbar', 'GL_NV_texture_shader', 'GL_ARB_program_interface_query', 'GL_ARB_shader_atomic_counter_ops', 'GL_EXT_vertex_array', 'GL_ARB_framebuffer_sRGB', 'GL_NV_shader_storage_buffer_object', 'GL_NV_sample_mask_override_coverage', 'GL_ARB_sparse_texture_clamp', 'GL_SGIX_shadow', 'GL_EXT_multiview_timer_query', 'GL_NV_texture_compression_vtc', 'GL_ARB_shader_bit_encoding', 'GL_ARB_stencil_texturing', 'GL_NV_fence', 'GL_ARB_fragment_program', 'GL_NV_bindless_multi_draw_indirect', 'GL_EXT_blend_subtract', 'GL_ARB_texture_stencil8', 'GL_ARB_multisample', 'GL_NV_gpu_program_fp64', 'GL_ARB_clip_control', 'GL_NV_shader_atomic_float64', 'GL_EXT_bgra', 'GL_ARB_ES3_compatibility', 'GL_EXT_texture_swizzle', 'GL_ARB_shader_atomic_counters', 'GL_NV_vertex_program3', 'GL_EXT_stencil_two_side', 'GL_NV_texture_shader3', 'GL_ARB_internalformat_query', 'GL_NV_vertex_array_range2', 'GL_NV_register_combiners', 'GL_ARB_imaging', 'GL_KHR_robustness', 'GL_NV_vertex_array_range', 'GL_NV_blend_minmax_factor', 'GL_NV_gpu_program5', 'GL_ARB_get_program_binary', 'GL_ARB_sparse_texture', 'GL_NV_representative_fragment_test', 'GL_EXT_texture_sRGB', 'GL_ARB_gl_spirv', 'GL_ARB_texture_mirror_clamp_to_edge', 'GL_NV_vertex_buffer_unified_memory', 'GL_ARB_vertex_buffer_object', 'GL_EXT_blend_minmax', 'GL_ARB_gpu_shader5', 'GL_EXT_abgr', 'GL_NV_shader_buffer_load', 'GL_ARB_invalidate_subdata', 'GL_ARB_multi_bind', 'GL_ARB_texture_rectangle', 'GL_EXT_compiled_vertex_array', 'GL_KHR_shader_subgroup', 'GL_EXT_semaphore_win32', 'GL_EXT_texture_buffer_object', 'GL_EXT_secondary_color', 'GL_ARB_texture_storage_multisample', 'GL_EXT_texture_sRGB_R8', 'GL_ARB_vertex_array_bgra', 'GL_NV_primitive_restart', 'GL_ARB_map_buffer_alignment', 'GL_EXT_raster_multisample', 'GL_NV_uniform_buffer_unified_memory', 'GL_ARB_texture_multisample', 'GL_ARB_direct_state_access', 'GL_ARB_ES2_compatibility', 'GL_ARB_texture_rg', 'GL_NV_light_max_exponent', 'GL_ARB_texture_compression_bptc', 'GL_ARB_shading_language_420pack', 'GL_NV_transform_feedback', 'GL_NV_bindless_texture', 'GL_ARB_texture_compression_rgtc', 'GL_EXT_texture_compression_dxt1', 'GL_ARB_point_parameters', 'GL_NV_conservative_raster_underestimation', 'GL_ARB_cull_distance', 'GL_NV_geometry_shader_passthrough', 'GL_ARB_geometry_shader4', 'GL_EXT_texture_compression_s3tc', 'GL_NV_copy_image', 'GL_EXT_win32_keyed_mutex', 'GL_NV_texture_multisample', 'GL_NV_ES3_1_compatibility', 'GL_KHR_blend_equation_advanced', 'GL_ARB_half_float_vertex', 'GL_ARB_bindless_texture', 'GL_EXT_texture_sRGB_decode', 'GL_EXT_texture_env_dot3', 'GL_EXT_blend_equation_separate', 'GL_EXT_rescale_normal', 'GL_EXT_texture_integer', 'GL_EXT_texture_filter_anisotropic', 'GL_ARB_shader_image_size', 'GL_ARB_uniform_buffer_object', 'GL_ARB_shader_storage_buffer_object', 'GL_NVX_multigpu_info', 'GL_ARB_sample_shading', 'GL_ARB_explicit_uniform_location', 'GL_ARB_blend_func_extended', 'GL_ARB_copy_buffer', 'GL_NV_shader_texture_footprint', 'GL_ARB_vertex_shader'}\n",
      "(0, 0, 1024, 1024)\n",
      "None\n"
     ]
    }
   ],
   "source": [
    "print(ctx.extensions)\n",
    "print(ctx.viewport)\n",
    "print(ctx.extra)"
   ],
   "metadata": {
    "collapsed": false,
    "ExecuteTime": {
     "end_time": "2023-10-01T02:11:57.535292700Z",
     "start_time": "2023-10-01T02:11:57.524465500Z"
    }
   },
   "id": "2d38e2d5b74a2950"
  },
  {
   "cell_type": "markdown",
   "source": [
    "Exciting! So it seems that headless OpenGL rendering does indeed work with Google Colab (even when using a Colab session without a GPU surprisingly). Another thing to keep in mind though is that different platforms will have different capabilities, and we'll have to work out how to either handle those as errors (trying to allocate too many OpenGL buffers/samplers) or provide fallbacks (eg: tiled rendering for cases where the resolution is too high (on my machine the limit is 32k\\*32k but on Colab the limit is 16k\\*16k (for framebuffers and textures)). \n",
    "\n",
    "Don't know if this will present a problem, but it could be useful to hint to the graphics driver which GPU we want to use in multi GPU systems (such as laptops). As it turns out this is actually not standardised at all, and quite difficult in OpenGL since we don't create the context with a specific adapter (unlike DirectX). On Windows when using an Nvidia GPU we can set the \"SHIM_MCCOMPAT=0x800000001\" environment variable to specify the dedicated GPU; I'm not sure this works on other platforms, it's not well documented. It seems to me that on Google Colab at the moment, it only uses the software renderer with OpenGL (the Mesa llvmpipe driver) even when a GPU environment is used. For the purposes of development and testing this is probably _fine_, but to actually be useful we should really try to get GPU support working. From what I've read, it should just work ([https://stackoverflow.com/a/60937358](https://stackoverflow.com/a/60937358)) so I'm not sure what's wrong..."
   ],
   "metadata": {
    "collapsed": false
   },
   "id": "a09055e07632d518"
  },
  {
   "cell_type": "markdown",
   "source": [
    "# ModernGL Threading"
   ],
   "metadata": {
    "collapsed": false
   },
   "id": "998531d10f14c9cc"
  },
  {
   "cell_type": "code",
   "execution_count": 11,
   "outputs": [],
   "source": [
    "#  Copyright (c) 2023 Thomas Mathieson.\n",
    "#  Distributed under the terms of the MIT license.\n",
    "import logging\n",
    "import time\n",
    "\n",
    "import moderngl\n",
    "import numpy as np\n",
    "\n",
    "\n",
    "class SSVRenderOpenGL:\n",
    "    \"\"\"\n",
    "    A rendering backend for SSV based on OpenGL\n",
    "    \"\"\"\n",
    "\n",
    "    def __init__(self, resolution):\n",
    "        self.resolution = resolution\n",
    "        self.__create_context()\n",
    "        self.start_time = time.time()\n",
    "\n",
    "    def __create_context(self):\n",
    "        \"\"\"\n",
    "        Creates an OpenGL context and a framebuffer.\n",
    "        \"\"\"\n",
    "        self.ctx = moderngl.create_context(standalone=True)\n",
    "\n",
    "        # To use moderngl with threading we need call the garbage collector manually\n",
    "        self.ctx.gc_mode = \"context_gc\"\n",
    "\n",
    "        resolution = (min(self.resolution[0], self.ctx.info[\"GL_MAX_VIEWPORT_DIMS\"][0]),\n",
    "                      min(self.resolution[1], self.ctx.info[\"GL_MAX_VIEWPORT_DIMS\"][1]))\n",
    "        self.fbo = self.ctx.simple_framebuffer(resolution, components=4)\n",
    "        self.fbo.use()\n",
    "\n",
    "    def log_context_info(self, full=False):\n",
    "        \"\"\"\n",
    "        Logs the OpenGL information to the console for debugging.\n",
    "        :param full: whether to log *all* of the OpenGL context information (including extensions)\n",
    "        \"\"\"\n",
    "        print(f\"Got OpenGL context:\\n\"\n",
    "            f\"\\tGL_VENDOR={self.ctx.info['GL_VENDOR']}\\n\"\n",
    "            f\"\\tGL_RENDERER={self.ctx.info['GL_RENDERER']}\\n\"\n",
    "            f\"\\tGL_VERSION={self.ctx.info['GL_VERSION']}\")\n",
    "        if full:\n",
    "            from pprint import pformat\n",
    "            info = pformat(self.ctx.info, indent=4)\n",
    "            print(f\"Full info: \\n{info}\")\n",
    "            extensions = pformat(self.ctx.extensions, indent=4)\n",
    "            print(f\"GL Extensions: \\n{extensions}\")\n",
    "\n",
    "    def register_shader(self):\n",
    "        ...\n",
    "\n",
    "    def dbg_render_test(self):\n",
    "        # Create a vertex buffer\n",
    "        vertices = np.array([\n",
    "            # X      Y      R    G    B\n",
    "            -1.0, -1.0, 1.0, 0.0, 0.0,\n",
    "            1.0, -1.0, 0.0, 1.0, 0.0,\n",
    "            0.0, 1.0, 0.0, 0.0, 1.0],\n",
    "            dtype='f4',\n",
    "        )\n",
    "\n",
    "        prog = self.ctx.program(vertex_shader=\"\"\"\n",
    "        #version 330\n",
    "        in vec2 in_vert;\n",
    "        in vec3 in_color;\n",
    "        out vec3 color;\n",
    "        out vec2 position;\n",
    "        void main() {\n",
    "            gl_Position = vec4(in_vert, 0.0, 1.0);\n",
    "            color = in_color;\n",
    "            position = in_vert*0.5+0.5;\n",
    "        }\n",
    "        \"\"\",\n",
    "                                fragment_shader=\"\"\"\n",
    "        #version 330\n",
    "        out vec4 fragColor;\n",
    "        in vec3 color;\n",
    "        in vec2 position;\n",
    "\n",
    "        uniform vec2 iResolution;\n",
    "        uniform float iTime;\n",
    "\n",
    "        float amod(float x, float y)\n",
    "        {\n",
    "            return x - y * floor(x/y);\n",
    "        }\n",
    "\n",
    "        vec4 mainImage(in vec2 fragCoord)\n",
    "        {\n",
    "            // Normalized pixel coordinates (from 0 to 1)\n",
    "            vec2 uv = fragCoord/iResolution.xy;\n",
    "\n",
    "            float coord = floor(fragCoord.x) + floor(fragCoord.y/10.) + floor(iTime);\n",
    "            //vec3 col = vec3(amod(coord, 16.)>=8.?1.:0., amod(coord, 32.)>=16.?1.:0., amod(coord, 64.)>=32.?1.:0.);\n",
    "            //col = amod(coord, 128.)>64.?(col*0.3333+.3333):col;\n",
    "\n",
    "            vec3 col = vec3(amod(coord, 64.) >= 56. ? 1. : 0.,\n",
    "                            amod(coord + 16., 64.) >= 56. ? 1. : 0.,\n",
    "                            amod(coord + 32., 64.) >= 56. ? 1. : 0.);\n",
    "            col += amod(coord + 48., 64.) >= 56. ? 1. : 0.;\n",
    "            col = amod(coord, 128.) > 64. ? (col * 0.3333 + .3333) : col;\n",
    "\n",
    "            // Output to screen\n",
    "            return vec4(col,1.0);\n",
    "        }\n",
    "\n",
    "        void main() {\n",
    "            fragColor = mainImage(position * iResolution) + vec4(color, 1.0)*0.01;\n",
    "            //fragColor = vec4(color, 1.0);\n",
    "        }\n",
    "        \"\"\")\n",
    "\n",
    "        # Set uniforms\n",
    "        prog[\"iResolution\"].value = self.resolution\n",
    "        prog[\"iTime\"].value = time.time() - self.start_time\n",
    "\n",
    "        # Assign buffers and render\n",
    "        vao = self.ctx.simple_vertex_array(prog, self.ctx.buffer(vertices), 'in_vert', 'in_color')\n",
    "        vao.render(mode=moderngl.TRIANGLES)\n",
    "\n",
    "    def get_frame(self):\n",
    "        \"\"\"\n",
    "        Gets the current contents of the frame buffer as a byte array.\n",
    "        :return: the contents of the frame buffer as a bytearray in the ``RGBA`` format.\n",
    "        \"\"\"\n",
    "        return self.fbo.read(components=4)\n"
   ],
   "metadata": {
    "collapsed": false,
    "ExecuteTime": {
     "end_time": "2023-10-10T09:04:32.813427800Z",
     "start_time": "2023-10-10T09:04:32.793415200Z"
    }
   },
   "id": "52058ff2e5befd1f"
  },
  {
   "cell_type": "code",
   "execution_count": 12,
   "outputs": [
    {
     "name": "stderr",
     "output_type": "stream",
     "text": [
      "Traceback (most recent call last):\n",
      "  File \"C:\\Users\\Thoma\\.conda\\envs\\IndProject\\lib\\threading.py\", line 953, in run\n",
      "    self._target(*self._args, **self._kwargs)\n",
      "  File \"C:\\Users\\Thoma\\AppData\\Local\\Temp\\ipykernel_49268\\2383715671.py\", line 12, in render_loop\n",
      "  File \"C:\\Users\\Thoma\\AppData\\Local\\Temp\\ipykernel_49268\\740362812.py\", line 63, in dbg_render_test\n",
      "  File \"C:\\Users\\Thoma\\.conda\\envs\\IndProject\\lib\\site-packages\\moderngl\\__init__.py\", line 1939, in program\n",
      "    res.mglo, res._members, res._subroutines, res._geom, res._glo = self.mglo.program(\n",
      "_moderngl.Error: cannot create program\n"
     ]
    }
   ],
   "source": [
    "import threading\n",
    "\n",
    "\n",
    "renderer = SSVRenderOpenGL((640,480))\n",
    "\n",
    "def render_loop(exit_flag):\n",
    "    target_framerate = 60\n",
    "    last_frame_time = time.time()\n",
    "    timeout = 0\n",
    "    delta_time = 1/target_framerate\n",
    "    while not exit_flag.wait(timeout=timeout):\n",
    "        renderer.dbg_render_test()\n",
    "\n",
    "        current_time = time.time()\n",
    "        delta_time = current_time - last_frame_time\n",
    "        timeout = max(1/target_framerate - delta_time, 0)\n",
    "        last_frame_time = current_time\n",
    "        break\n",
    "\n",
    "def run():\n",
    "    exit_flag = threading.Event()\n",
    "    thread = threading.Thread(target=render_loop, args=(exit_flag,))\n",
    "\n",
    "    # render_loop(exit_flag)\n",
    "\n",
    "    thread.start()\n",
    "    # self.render_loop(exit_flag)\n",
    "    \n",
    "run()"
   ],
   "metadata": {
    "collapsed": false,
    "ExecuteTime": {
     "start_time": "2023-10-10T09:04:34.960644900Z"
    }
   },
   "id": "98b8642b6737f701"
  },
  {
   "cell_type": "code",
   "execution_count": null,
   "outputs": [],
   "source": [],
   "metadata": {
    "collapsed": false
   },
   "id": "5518cad43a3a37c4"
  }
 ],
 "metadata": {
  "kernelspec": {
   "display_name": "Python 3",
   "language": "python",
   "name": "python3"
  },
  "language_info": {
   "codemirror_mode": {
    "name": "ipython",
    "version": 2
   },
   "file_extension": ".py",
   "mimetype": "text/x-python",
   "name": "python",
   "nbconvert_exporter": "python",
   "pygments_lexer": "ipython2",
   "version": "2.7.6"
  }
 },
 "nbformat": 4,
 "nbformat_minor": 5
}
