{
 "cells": [
  {
   "cell_type": "markdown",
   "source": [
    "# Small Experiments Pertaining to Shaders for Scientific Visualisation\n",
    "The contents of this notebook is neither documentation nor does it serve as permanent unit tests for the project. It's purely kept as a record of some of the experimentation done while working on this project.\n",
    "\n",
    "Disclaimer of originality: Some of the code snippets in this notebook are derived from examples found online and are not original work."
   ],
   "metadata": {
    "collapsed": false
   },
   "id": "f1cef3c04282936"
  },
  {
   "cell_type": "markdown",
   "source": [
    "### Custom HTML Output in Jupyter"
   ],
   "metadata": {
    "collapsed": false
   },
   "id": "3b79aee7193b8a58"
  },
  {
   "cell_type": "code",
   "execution_count": 2,
   "outputs": [
    {
     "data": {
      "text/plain": "<__main__.CustomHTMLObject at 0x261cbec1820>",
      "text/html": "\n        <div class=\"custom-html-object\">\n            <div style=\"color: #ff2010;font-size: large;\">Custom HTML is cool!</div>\n        </div>"
     },
     "execution_count": 2,
     "metadata": {},
     "output_type": "execute_result"
    }
   ],
   "source": [
    "class CustomHTMLObject:\n",
    "    def __init__(self, name: str, colour: str):\n",
    "        \"\"\"\n",
    "        \n",
    "        :param name: The name of the object\n",
    "        :param colour: The hex colour code of the object (eg: \"#112233\")\n",
    "        \"\"\"\n",
    "        self.name = name\n",
    "        self.colour = colour\n",
    "        \n",
    "    def _repr_html_(self) -> str:\n",
    "        \"\"\"\n",
    "        Hooks into Jupyter notebook rich display system, which calls _repr_html_ by\n",
    "        default if an object is returned at the end of a cell.\n",
    "        \"\"\"\n",
    "        return f\"\"\"\n",
    "        <div class=\"custom-html-object\">\n",
    "            <div style=\"color: {self.colour};font-size: large;\">{self.name}</div>\n",
    "        </div>\"\"\"\n",
    "    \n",
    "# Now return a CustomHTMLObject to the cell\n",
    "CustomHTMLObject(\"Custom HTML is cool!\", \"#ff2010\")"
   ],
   "metadata": {
    "collapsed": false,
    "ExecuteTime": {
     "end_time": "2023-09-18T21:33:33.960781600Z",
     "start_time": "2023-09-18T21:33:33.932855300Z"
    }
   },
   "id": "61d5abcc8c068ff0"
  },
  {
   "cell_type": "markdown",
   "source": [
    "### Running OpenGL Headless"
   ],
   "metadata": {
    "collapsed": false
   },
   "id": "a5562aac2dc26a64"
  },
  {
   "cell_type": "code",
   "execution_count": 1,
   "outputs": [
    {
     "name": "stdout",
     "output_type": "stream",
     "text": [
      "Collecting moderngl\n",
      "  Downloading moderngl-5.8.2-cp310-cp310-win_amd64.whl (106 kB)\n",
      "     ---------------------------------------- 0.0/106.8 kB ? eta -:--:--\n",
      "     --- ------------------------------------ 10.2/106.8 kB ? eta -:--:--\n",
      "     -------------------------------------- 106.8/106.8 kB 1.5 MB/s eta 0:00:00\n",
      "Collecting glcontext<3,>=2.3.6 (from moderngl)\n",
      "  Obtaining dependency information for glcontext<3,>=2.3.6 from https://files.pythonhosted.org/packages/75/65/a4cd375ff65099f9b6203a960337c24d21d12162107b0fe4f55dd617d2e8/glcontext-2.4.0-cp310-cp310-win_amd64.whl.metadata\n",
      "  Downloading glcontext-2.4.0-cp310-cp310-win_amd64.whl.metadata (6.3 kB)\n",
      "Downloading glcontext-2.4.0-cp310-cp310-win_amd64.whl (12 kB)\n",
      "Installing collected packages: glcontext, moderngl\n",
      "Successfully installed glcontext-2.4.0 moderngl-5.8.2\n",
      "Note: you may need to restart the kernel to use updated packages.\n"
     ]
    }
   ],
   "source": [
    "%pip install moderngl"
   ],
   "metadata": {
    "collapsed": false,
    "ExecuteTime": {
     "end_time": "2023-10-01T00:49:00.263461700Z",
     "start_time": "2023-10-01T00:48:56.375932Z"
    }
   },
   "id": "f53a29bd86416c6b"
  },
  {
   "cell_type": "code",
   "execution_count": 1,
   "outputs": [],
   "source": [
    "import numpy as np\n",
    "from PIL import Image\n",
    "import moderngl"
   ],
   "metadata": {
    "collapsed": false,
    "ExecuteTime": {
     "end_time": "2023-10-10T08:58:35.861473500Z",
     "start_time": "2023-10-10T08:58:35.736040800Z"
    }
   },
   "id": "1a1eb967700a1f7b"
  },
  {
   "cell_type": "code",
   "execution_count": 34,
   "outputs": [],
   "source": [
    "# This snippet for detecting the python environment is taken from: https://github.com/InsightSoftwareConsortium/itkwidgets/blob/main/itkwidgets/integrations/environment.py\n",
    "# Licensed under the Apache License 2.0: https://github.com/InsightSoftwareConsortium/itkwidgets/blob/main/LICENSE\n",
    "from enum import Enum\n",
    "from importlib import import_module\n",
    "import sys\n",
    "\n",
    "\n",
    "class Env(Enum):\n",
    "    JUPYTER_NOTEBOOK = 'notebook'\n",
    "    JUPYTERLAB = 'lab'\n",
    "    JUPYTERLITE = 'lite'\n",
    "    SAGEMAKER = 'sagemaker'\n",
    "    HYPHA = 'hypha'\n",
    "    COLAB = 'colab'\n",
    "\n",
    "\n",
    "def find_env():\n",
    "    try:\n",
    "        from google.colab import files\n",
    "        return Env.COLAB\n",
    "    except:\n",
    "        try:\n",
    "            from IPython import get_ipython\n",
    "            parent_header = get_ipython().parent_header\n",
    "            username = parent_header['header']['username']\n",
    "            if username == '':\n",
    "                return Env.JUPYTERLAB\n",
    "            elif username == 'username':\n",
    "                return Env.JUPYTER_NOTEBOOK\n",
    "            else:\n",
    "                return Env.SAGEMAKER\n",
    "        except:\n",
    "            import sys\n",
    "            if sys.platform == 'emscripten':\n",
    "                return Env.JUPYTERLITE\n",
    "            return Env.HYPHA\n",
    "\n",
    "\n",
    "ENVIRONMENT = find_env()"
   ],
   "metadata": {
    "collapsed": false,
    "ExecuteTime": {
     "end_time": "2023-10-01T02:11:47.135207600Z",
     "start_time": "2023-10-01T02:11:47.113566800Z"
    }
   },
   "id": "a28025b37976a22c"
  },
  {
   "cell_type": "code",
   "execution_count": 35,
   "outputs": [
    {
     "name": "stdout",
     "output_type": "stream",
     "text": [
      "Got OpenGL context:\n",
      "\tGL_VENDOR=NVIDIA Corporation\n",
      "\tGL_RENDERER=NVIDIA GeForce GTX 1660 Ti/PCIe/SSE2\n",
      "\tGL_VERSION=3.3.0 NVIDIA 536.23\n",
      "{'GL_ALIASED_LINE_WIDTH_RANGE': (1.0, 10.0),\n",
      " 'GL_CONTEXT_PROFILE_MASK': 1,\n",
      " 'GL_DOUBLEBUFFER': True,\n",
      " 'GL_MAJOR_VERSION': 3,\n",
      " 'GL_MAX_3D_TEXTURE_SIZE': 16384,\n",
      " 'GL_MAX_ARRAY_TEXTURE_LAYERS': 2048,\n",
      " 'GL_MAX_CLIP_DISTANCES': 8,\n",
      " 'GL_MAX_COLOR_ATTACHMENTS': 8,\n",
      " 'GL_MAX_COLOR_TEXTURE_SAMPLES': 32,\n",
      " 'GL_MAX_COMBINED_FRAGMENT_UNIFORM_COMPONENTS': 233472,\n",
      " 'GL_MAX_COMBINED_GEOMETRY_UNIFORM_COMPONENTS': 231424,\n",
      " 'GL_MAX_COMBINED_TEXTURE_IMAGE_UNITS': 192,\n",
      " 'GL_MAX_COMBINED_UNIFORM_BLOCKS': 84,\n",
      " 'GL_MAX_COMBINED_VERTEX_UNIFORM_COMPONENTS': 233472,\n",
      " 'GL_MAX_CUBE_MAP_TEXTURE_SIZE': 32768,\n",
      " 'GL_MAX_DEPTH_TEXTURE_SAMPLES': 32,\n",
      " 'GL_MAX_DRAW_BUFFERS': 8,\n",
      " 'GL_MAX_DUAL_SOURCE_DRAW_BUFFERS': 1,\n",
      " 'GL_MAX_ELEMENTS_INDICES': 1048576,\n",
      " 'GL_MAX_ELEMENTS_VERTICES': 1048576,\n",
      " 'GL_MAX_FRAGMENT_INPUT_COMPONENTS': 128,\n",
      " 'GL_MAX_FRAGMENT_UNIFORM_BLOCKS': 14,\n",
      " 'GL_MAX_FRAGMENT_UNIFORM_COMPONENTS': 4096,\n",
      " 'GL_MAX_FRAGMENT_UNIFORM_VECTORS': 1024,\n",
      " 'GL_MAX_GEOMETRY_INPUT_COMPONENTS': 128,\n",
      " 'GL_MAX_GEOMETRY_OUTPUT_COMPONENTS': 128,\n",
      " 'GL_MAX_GEOMETRY_OUTPUT_VERTICES': 1024,\n",
      " 'GL_MAX_GEOMETRY_TEXTURE_IMAGE_UNITS': 32,\n",
      " 'GL_MAX_GEOMETRY_UNIFORM_BLOCKS': 14,\n",
      " 'GL_MAX_GEOMETRY_UNIFORM_COMPONENTS': 2048,\n",
      " 'GL_MAX_INTEGER_SAMPLES': 32,\n",
      " 'GL_MAX_PROGRAM_TEXEL_OFFSET': 7.0,\n",
      " 'GL_MAX_RECTANGLE_TEXTURE_SIZE': 32768,\n",
      " 'GL_MAX_RENDERBUFFER_SIZE': 32768,\n",
      " 'GL_MAX_SAMPLES': 32,\n",
      " 'GL_MAX_SAMPLE_MASK_WORDS': 2,\n",
      " 'GL_MAX_SERVER_WAIT_TIMEOUT': -1,\n",
      " 'GL_MAX_TEXTURE_BUFFER_SIZE': 134217728,\n",
      " 'GL_MAX_TEXTURE_IMAGE_UNITS': 32,\n",
      " 'GL_MAX_TEXTURE_LOD_BIAS': 15,\n",
      " 'GL_MAX_TEXTURE_SIZE': 32768,\n",
      " 'GL_MAX_UNIFORM_BLOCK_SIZE': 65536,\n",
      " 'GL_MAX_UNIFORM_BUFFER_BINDINGS': 84,\n",
      " 'GL_MAX_VARYING_VECTORS': 31,\n",
      " 'GL_MAX_VERTEX_ATTRIBS': 16,\n",
      " 'GL_MAX_VERTEX_OUTPUT_COMPONENTS': 128,\n",
      " 'GL_MAX_VERTEX_TEXTURE_IMAGE_UNITS': 32,\n",
      " 'GL_MAX_VERTEX_UNIFORM_BLOCKS': 14,\n",
      " 'GL_MAX_VERTEX_UNIFORM_COMPONENTS': 4096,\n",
      " 'GL_MAX_VERTEX_UNIFORM_VECTORS': 1024,\n",
      " 'GL_MAX_VIEWPORT_DIMS': (32768, 32768),\n",
      " 'GL_MINOR_VERSION': 3,\n",
      " 'GL_MIN_PROGRAM_TEXEL_OFFSET': -8.0,\n",
      " 'GL_POINT_FADE_THRESHOLD_SIZE': 1.0,\n",
      " 'GL_POINT_SIZE_GRANULARITY': 0.125,\n",
      " 'GL_POINT_SIZE_RANGE': (1.0, 2047.0),\n",
      " 'GL_RENDERER': 'NVIDIA GeForce GTX 1660 Ti/PCIe/SSE2',\n",
      " 'GL_SAMPLE_BUFFERS': 0,\n",
      " 'GL_SMOOTH_LINE_WIDTH_GRANULARITY': 0.125,\n",
      " 'GL_SMOOTH_LINE_WIDTH_RANGE': (0.5, 10.0),\n",
      " 'GL_STEREO': False,\n",
      " 'GL_SUBPIXEL_BITS': 8,\n",
      " 'GL_UNIFORM_BUFFER_OFFSET_ALIGNMENT': 256,\n",
      " 'GL_VENDOR': 'NVIDIA Corporation',\n",
      " 'GL_VERSION': '3.3.0 NVIDIA 536.23'}\n",
      "Saving image...\n",
      "Saved to 'openglHeadlessExample.png'!\n"
     ]
    }
   ],
   "source": [
    "# Setup the OpenGL context\n",
    "if ENVIRONMENT == Env.COLAB:\n",
    "    # In Google Colab we need to explicitly specify the EGL backend, otherwise it tries (and fails) to use X11\n",
    "    ctx = moderngl.create_context(standalone=True, backend=\"egl\")\n",
    "else:\n",
    "    # Otherwise let ModernGL try to automatically determine the correct backend\n",
    "    ctx = moderngl.create_context(standalone=True)\n",
    "print(f\"Got OpenGL context:\\n\\tGL_VENDOR={ctx.info['GL_VENDOR']}\\n\\tGL_RENDERER={ctx.info['GL_RENDERER']}\\n\\tGL_VERSION={ctx.info['GL_VERSION']}\")\n",
    "from pprint import pprint\n",
    "pprint(ctx.info)\n",
    "\n",
    "resolution = (min(1024, ctx.info[\"GL_MAX_VIEWPORT_DIMS\"][0]), \n",
    "              min(1024, ctx.info[\"GL_MAX_VIEWPORT_DIMS\"][1]))\n",
    "fbo = ctx.simple_framebuffer(resolution, components=4)\n",
    "fbo.use()\n",
    "\n",
    "# Create a vertex buffer\n",
    "vertices = np.array([\n",
    "   # X      Y      R    G    B\n",
    "    -1.0,  -1.0,   1.0, 0.0, 0.0,\n",
    "     1.0,  -1.0,   0.0, 1.0, 0.0,\n",
    "     0.0,   1.0,   0.0, 0.0, 1.0],\n",
    "    dtype='f4',\n",
    ")\n",
    "\n",
    "prog = ctx.program(vertex_shader=\"\"\"\n",
    "#version 330\n",
    "in vec2 in_vert;\n",
    "in vec3 in_color;\n",
    "out vec3 color;\n",
    "out vec2 position;\n",
    "void main() {\n",
    "    gl_Position = vec4(in_vert, 0.0, 1.0);\n",
    "    color = in_color;\n",
    "    position = in_vert*0.5+0.5;\n",
    "}\n",
    "\"\"\",\n",
    "    fragment_shader=\"\"\"\n",
    "#version 330\n",
    "out vec4 fragColor;\n",
    "in vec3 color;\n",
    "in vec2 position;\n",
    "\n",
    "uniform vec2 iResolution;\n",
    "\n",
    "float amod(float x, float y)\n",
    "{\n",
    "    return x - y * floor(x/y);\n",
    "}\n",
    "\n",
    "vec4 mainImage(in vec2 fragCoord)\n",
    "{\n",
    "    // Normalized pixel coordinates (from 0 to 1)\n",
    "    vec2 uv = fragCoord/iResolution.xy;\n",
    "\n",
    "    float coord = floor(fragCoord.x) + floor(fragCoord.y/10.);\n",
    "    //vec3 col = vec3(amod(coord, 16.)>=8.?1.:0., amod(coord, 32.)>=16.?1.:0., amod(coord, 64.)>=32.?1.:0.);\n",
    "    //col = amod(coord, 128.)>64.?(col*0.3333+.3333):col;\n",
    "\n",
    "    vec3 col = vec3(amod(coord, 64.) >= 56. ? 1. : 0.,\n",
    "                    amod(coord + 16., 64.) >= 56. ? 1. : 0.,\n",
    "                    amod(coord + 32., 64.) >= 56. ? 1. : 0.);\n",
    "    col += amod(coord + 48., 64.) >= 56. ? 1. : 0.;\n",
    "    col = amod(coord, 128.) > 64. ? (col * 0.3333 + .3333) : col;\n",
    "\n",
    "    // Output to screen\n",
    "    return vec4(col,1.0);\n",
    "}\n",
    "\n",
    "void main() {\n",
    "    fragColor = mainImage(position * iResolution) + vec4(color, 1.0)*0.01;\n",
    "    //fragColor = vec4(color, 1.0);\n",
    "}\n",
    "\"\"\",\n",
    ")\n",
    "\n",
    "# Set uniforms\n",
    "prog[\"iResolution\"].value = resolution\n",
    "\n",
    "# Assign buffers and render\n",
    "vao = ctx.simple_vertex_array(prog, ctx.buffer(vertices), 'in_vert', 'in_color')\n",
    "vao.render(mode=moderngl.TRIANGLES)\n",
    "\n",
    "# Save output to png\n",
    "print(\"Saving image...\")\n",
    "image = Image.frombytes('RGBA', resolution, fbo.read(components=4))\n",
    "image = image.transpose(Image.FLIP_TOP_BOTTOM)\n",
    "image.save('openglHeadlessExample.png', format='png')\n",
    "print(f\"Saved to 'openglHeadlessExample.png'!\")"
   ],
   "metadata": {
    "collapsed": false,
    "ExecuteTime": {
     "end_time": "2023-10-01T02:11:47.773191600Z",
     "start_time": "2023-10-01T02:11:47.687710900Z"
    }
   },
   "id": "38b39d09701ef31f"
  },
  {
   "cell_type": "code",
   "execution_count": 37,
   "outputs": [
    {
     "name": "stdout",
     "output_type": "stream",
     "text": [
      "{'GL_ARB_texture_non_power_of_two', 'GL_NV_timeline_semaphore', 'GL_SGIS_texture_lod', 'GL_EXT_gpu_program_parameters', 'GL_EXT_draw_instanced', 'GL_ARB_texture_env_dot3', 'GL_EXT_shader_image_load_formatted', 'GL_ARB_transpose_matrix', 'GL_EXT_memory_object', 'GL_NV_fragment_shader_interlock', 'GL_ARB_texture_filter_minmax', 'GL_ARB_internalformat_query2', 'GL_NV_transform_feedback2', 'GL_NV_memory_attachment', 'GL_ARB_robust_buffer_access_behavior', 'GL_ARB_polygon_offset_clamp', 'GL_NV_depth_buffer_float', 'GL_ARB_draw_buffers_blend', 'GL_NV_blend_square', 'GL_EXT_fog_coord', 'GL_EXT_pixel_buffer_object', 'GL_ARB_copy_image', 'GL_ARB_seamless_cubemap_per_texture', 'GL_NVX_linked_gpu_multicast', 'GL_ARB_depth_clamp', 'GL_NV_point_sprite', 'GL_NV_half_float', 'GL_ARB_timer_query', 'GL_ARB_post_depth_coverage', 'GL_ARB_shader_precision', 'GL_ARB_shader_viewport_layer_array', 'GL_ARB_occlusion_query', 'GL_NV_shader_atomic_fp16_vector', 'GL_EXT_blend_func_separate', 'GL_EXT_texture_shadow_lod', 'GL_NV_blend_equation_advanced', 'GL_ARB_shader_objects', 'GL_EXT_framebuffer_multisample_blit_scaled', 'GL_ARB_compute_variable_group_size', 'GL_NV_parameter_buffer_object2', 'GL_EXT_direct_state_access', 'GL_NVX_conditional_render', 'GL_ARB_shader_clock', 'GL_NV_internalformat_sample_query', 'GL_NVX_gpu_multicast2', 'GL_ARB_derivative_control', 'GL_ARB_tessellation_shader', 'GL_EXT_separate_shader_objects', 'GL_EXT_texture_storage', 'GL_NV_vertex_program2', 'GL_EXT_texture_compression_latc', 'GL_NV_shader_atomic_counters', 'WGL_EXT_swap_control', 'GL_EXT_multi_draw_arrays', 'GL_EXT_packed_float', 'GL_ARB_pixel_buffer_object', 'GL_ARB_shader_draw_parameters', 'GL_ARB_compute_shader', 'GL_ARB_indirect_parameters', 'GL_EXT_blend_color', 'GL_EXT_shader_image_load_store', 'GL_ARB_spirv_extensions', 'GL_ARB_texture_border_clamp', 'GL_EXT_texture_edge_clamp', 'GL_EXT_shadow_funcs', 'GL_ARB_texture_filter_anisotropic', 'GL_EXT_import_sync_object', 'GL_EXT_draw_range_elements', 'GL_EXT_texture_filter_minmax', 'GL_NV_register_combiners2', 'GL_ARB_fragment_layer_viewport', 'GL_NV_gpu_program4_1', 'GL_ARB_map_buffer_range', 'GL_NV_shading_rate_image', 'GL_WIN_swap_hint', 'GL_EXT_stencil_wrap', 'GL_EXT_semaphore', 'GL_ARB_window_pos', 'GL_NV_viewport_array2', 'GL_ARB_texture_env_combine', 'GL_ARB_fragment_coord_conventions', 'GL_ATI_texture_float', 'GL_ARB_transform_feedback2', 'GL_EXT_packed_pixels', 'GL_ARB_vertex_array_object', 'GL_EXT_multiview_texture_multisample', 'GL_EXT_texture_object', 'GL_EXTX_framebuffer_mixed_formats', 'GL_ATI_draw_buffers', 'GL_NV_framebuffer_multisample_coverage', 'GL_NV_mesh_shader', 'GL_NV_gpu_program4', 'GL_ARB_multi_draw_indirect', 'GL_ARB_shadow', 'GL_SUN_slice_accum', 'GL_ARB_seamless_cube_map', 'GL_NV_memory_object_sparse', 'GL_NV_path_rendering', 'GL_NV_alpha_to_coverage_dither_control', 'GL_ARB_conservative_depth', 'GL_NV_gpu_shader5', 'GL_EXT_vertex_array_bgra', 'GL_ARB_texture_barrier', 'GL_EXT_framebuffer_multisample', 'GL_NV_float_buffer', 'GL_ARB_shader_texture_lod', 'GL_ARB_texture_storage', 'GL_NV_compute_shader_derivatives', 'GL_ARB_ES3_1_compatibility', 'GL_NV_command_list', 'GL_NV_compute_program5', 'GL_ARB_query_buffer_object', 'GL_ARB_vertex_attrib_binding', 'GL_EXT_bindable_uniform', 'GL_NV_fragment_shader_barycentric', 'GL_ARB_explicit_attrib_location', 'GL_NV_explicit_multisample', 'GL_NV_fragment_coverage_to_color', 'GL_NV_fill_rectangle', 'GL_ARB_depth_texture', 'GL_NV_viewport_swizzle', 'GL_EXT_texture_mirror_clamp', 'GL_NV_fragment_program2', 'GL_EXT_texture_env_add', 'GL_EXT_transform_feedback2', 'GL_NV_pixel_data_range', 'GL_NV_clip_space_w_scaling', 'GL_ARB_framebuffer_object', 'GL_ARB_parallel_shader_compile', 'GL_ARB_transform_feedback3', 'GL_AMD_vertex_shader_viewport_index', 'GL_ARB_texture_buffer_object', 'GL_NV_vertex_program2_option', 'GL_NV_packed_depth_stencil', 'GL_KHR_no_error', 'GL_ARB_draw_buffers', 'GL_NV_depth_clamp', 'GL_ARB_texture_query_lod', 'GL_NV_query_resource_tag', 'GL_NV_texture_rectangle', 'GL_ARB_vertex_attrib_64bit', 'GL_ARB_texture_buffer_object_rgb32', 'GL_ARB_draw_instanced', 'GL_NV_texture_barrier', 'GL_IBM_rasterpos_clip', 'GL_ARB_texture_swizzle', 'GL_ARB_arrays_of_arrays', 'GL_NVX_gpu_memory_info', 'GL_ARB_enhanced_layouts', 'GL_KHR_parallel_shader_compile', 'GL_ARB_texture_float', 'GL_EXT_texture_shared_exponent', 'GL_ARB_shader_group_vote', 'GL_NV_bindless_multi_draw_indirect_count', 'GL_NV_multisample_coverage', 'GL_ARB_framebuffer_no_attachments', 'GL_ARB_vertex_type_10f_11f_11f_rev', 'GL_NV_conservative_raster_pre_snap', 'GL_EXT_window_rectangles', 'GL_NV_uniform_buffer_std430_layout', 'GL_NV_feature_query', 'GL_SGIS_generate_mipmap', 'GL_EXT_provoking_vertex', 'GL_ARB_draw_elements_base_vertex', 'GL_EXT_framebuffer_blit', 'GL_EXT_packed_depth_stencil', 'GL_ARB_robustness', 'GL_NV_texture_rectangle_compressed', 'GL_KHR_blend_equation_advanced_coherent', 'GL_AMD_vertex_shader_layer', 'GL_NVX_blend_equation_advanced_multi_draw_buffers', 'GL_EXT_polygon_offset_clamp', 'GL_NV_draw_vulkan_image', 'GL_ARB_texture_rgb10_a2ui', 'GL_ARB_depth_buffer_float', 'GL_NV_ES1_1_compatibility', 'GL_NV_framebuffer_mixed_samples', 'GL_OVR_multiview', 'GL_ARB_sparse_buffer', 'GL_NV_fragment_program', 'GL_NV_draw_texture', 'GL_ARB_get_texture_sub_image', 'GL_NV_shader_subgroup_partitioned', 'GL_NV_vertex_attrib_integer_64bit', 'GL_KHR_robust_buffer_access_behavior', 'GL_ARB_clear_buffer_object', 'GL_NV_shader_atomic_float', 'GL_ARB_sampler_objects', 'GL_ARB_conditional_render_inverted', 'GL_ARB_texture_gather', 'GL_ARB_viewport_array', 'GL_ARB_fragment_shader_interlock', 'GL_EXT_sparse_texture2', 'GL_ARB_texture_compression', 'GL_NV_conservative_raster_pre_snap_triangles', 'GL_NV_blend_equation_advanced_coherent', 'GL_NV_texgen_reflection', 'GL_NV_fog_distance', 'GL_EXT_texture_lod_bias', 'GL_NV_parameter_buffer_object', 'GL_ARB_shader_image_load_store', 'GL_NV_path_rendering_shared_edge', 'GL_ARB_texture_cube_map_array', 'GL_OVR_multiview2', 'GL_AMD_seamless_cubemap_per_texture', 'GL_ARB_separate_shader_objects', 'GL_ARB_fragment_program_shadow', 'GL_EXT_post_depth_coverage', 'GL_EXT_shader_integer_mix', 'GL_EXT_texture_cube_map', 'GL_NV_texture_env_combine4', 'GL_ARB_shading_language_packing', 'GL_EXT_memory_object_win32', 'GL_ARB_ES3_2_compatibility', 'GL_NV_vertex_program', 'GL_NV_gpu_multicast', 'GL_EXT_texture_env_combine', 'GL_NV_shader_thread_shuffle', 'GL_ARB_shader_texture_image_samples', 'GL_KHR_context_flush_control', 'GL_NV_conditional_render', 'GL_NV_fragment_program_option', 'GL_ARB_transform_feedback_instanced', 'GL_NV_copy_depth_to_color', 'GL_ARB_shading_language_100', 'GL_NV_sample_locations', 'GL_NV_texture_shader2', 'GL_ARB_gpu_shader_int64', 'GL_ARB_texture_buffer_range', 'GL_ATI_texture_mirror_once', 'GL_NV_conservative_raster_dilate', 'GL_NV_query_resource', 'GL_IBM_texture_mirrored_repeat', 'GL_NV_shader_atomic_int64', 'GL_ARB_texture_view', 'GL_EXT_framebuffer_object', 'GL_ARB_sync', 'GL_ARB_compressed_texture_pixel_storage', 'GL_ARB_sparse_texture2', 'GL_ARB_draw_indirect', 'GL_NV_conservative_raster', 'GL_ARB_texture_env_add', 'GL_EXT_vertex_attrib_64bit', 'GL_EXT_texture_array', 'GL_ARB_texture_query_levels', 'GL_ARB_debug_output', 'GL_ARB_buffer_storage', 'GL_ARB_pipeline_statistics_query', 'GL_EXT_draw_buffers2', 'GL_NV_geometry_shader4', 'GL_KTX_buffer_region', 'GL_SGIX_depth_texture', 'GL_AMD_multi_draw_indirect', 'GL_KHR_debug', 'GL_ARB_shader_subroutine', 'GL_EXT_texture_compression_rgtc', 'GL_EXT_depth_bounds_test', 'GL_ARB_shading_language_include', 'GL_NVX_progress_fence', 'GL_ARB_color_buffer_float', 'GL_EXT_gpu_shader4', 'GL_ARB_transform_feedback_overflow_query', 'GL_ARB_vertex_program', 'GL_NV_stereo_view_rendering', 'GL_ARB_multitexture', 'GL_NV_scissor_exclusive', 'GL_ARB_vertex_type_2_10_10_10_rev', 'GL_ARB_clear_texture', 'GL_EXT_timer_query', 'GL_EXT_texture_lod', 'GL_ARB_shader_ballot', 'GL_NVX_nvenc_interop', 'GL_ARB_sample_locations', 'GL_ARB_gpu_shader_fp64', 'GL_EXT_Cg_shader', 'GL_NV_multisample_filter_hint', 'GL_EXT_texture3D', 'GL_ARB_provoking_vertex', 'GL_NV_shader_thread_group', 'GL_ARB_occlusion_query2', 'GL_EXT_separate_specular_color', 'GL_EXT_point_parameters', 'GL_NV_gpu_program5_mem_extended', 'GL_ARB_texture_mirrored_repeat', 'GL_EXT_framebuffer_sRGB', 'GL_ARB_base_instance', 'GL_ARB_half_float_pixel', 'GL_ARB_point_sprite', 'GL_S3_s3tc', 'GL_ARB_instanced_arrays', 'GL_EXT_geometry_shader4', 'GL_ARB_texture_cube_map', 'GL_ARB_fragment_shader', 'GL_NV_vertex_program1_1', 'GL_NV_occlusion_query', 'GL_ARB_texture_env_crossbar', 'GL_NV_texture_shader', 'GL_ARB_program_interface_query', 'GL_ARB_shader_atomic_counter_ops', 'GL_EXT_vertex_array', 'GL_ARB_framebuffer_sRGB', 'GL_NV_shader_storage_buffer_object', 'GL_NV_sample_mask_override_coverage', 'GL_ARB_sparse_texture_clamp', 'GL_SGIX_shadow', 'GL_EXT_multiview_timer_query', 'GL_NV_texture_compression_vtc', 'GL_ARB_shader_bit_encoding', 'GL_ARB_stencil_texturing', 'GL_NV_fence', 'GL_ARB_fragment_program', 'GL_NV_bindless_multi_draw_indirect', 'GL_EXT_blend_subtract', 'GL_ARB_texture_stencil8', 'GL_ARB_multisample', 'GL_NV_gpu_program_fp64', 'GL_ARB_clip_control', 'GL_NV_shader_atomic_float64', 'GL_EXT_bgra', 'GL_ARB_ES3_compatibility', 'GL_EXT_texture_swizzle', 'GL_ARB_shader_atomic_counters', 'GL_NV_vertex_program3', 'GL_EXT_stencil_two_side', 'GL_NV_texture_shader3', 'GL_ARB_internalformat_query', 'GL_NV_vertex_array_range2', 'GL_NV_register_combiners', 'GL_ARB_imaging', 'GL_KHR_robustness', 'GL_NV_vertex_array_range', 'GL_NV_blend_minmax_factor', 'GL_NV_gpu_program5', 'GL_ARB_get_program_binary', 'GL_ARB_sparse_texture', 'GL_NV_representative_fragment_test', 'GL_EXT_texture_sRGB', 'GL_ARB_gl_spirv', 'GL_ARB_texture_mirror_clamp_to_edge', 'GL_NV_vertex_buffer_unified_memory', 'GL_ARB_vertex_buffer_object', 'GL_EXT_blend_minmax', 'GL_ARB_gpu_shader5', 'GL_EXT_abgr', 'GL_NV_shader_buffer_load', 'GL_ARB_invalidate_subdata', 'GL_ARB_multi_bind', 'GL_ARB_texture_rectangle', 'GL_EXT_compiled_vertex_array', 'GL_KHR_shader_subgroup', 'GL_EXT_semaphore_win32', 'GL_EXT_texture_buffer_object', 'GL_EXT_secondary_color', 'GL_ARB_texture_storage_multisample', 'GL_EXT_texture_sRGB_R8', 'GL_ARB_vertex_array_bgra', 'GL_NV_primitive_restart', 'GL_ARB_map_buffer_alignment', 'GL_EXT_raster_multisample', 'GL_NV_uniform_buffer_unified_memory', 'GL_ARB_texture_multisample', 'GL_ARB_direct_state_access', 'GL_ARB_ES2_compatibility', 'GL_ARB_texture_rg', 'GL_NV_light_max_exponent', 'GL_ARB_texture_compression_bptc', 'GL_ARB_shading_language_420pack', 'GL_NV_transform_feedback', 'GL_NV_bindless_texture', 'GL_ARB_texture_compression_rgtc', 'GL_EXT_texture_compression_dxt1', 'GL_ARB_point_parameters', 'GL_NV_conservative_raster_underestimation', 'GL_ARB_cull_distance', 'GL_NV_geometry_shader_passthrough', 'GL_ARB_geometry_shader4', 'GL_EXT_texture_compression_s3tc', 'GL_NV_copy_image', 'GL_EXT_win32_keyed_mutex', 'GL_NV_texture_multisample', 'GL_NV_ES3_1_compatibility', 'GL_KHR_blend_equation_advanced', 'GL_ARB_half_float_vertex', 'GL_ARB_bindless_texture', 'GL_EXT_texture_sRGB_decode', 'GL_EXT_texture_env_dot3', 'GL_EXT_blend_equation_separate', 'GL_EXT_rescale_normal', 'GL_EXT_texture_integer', 'GL_EXT_texture_filter_anisotropic', 'GL_ARB_shader_image_size', 'GL_ARB_uniform_buffer_object', 'GL_ARB_shader_storage_buffer_object', 'GL_NVX_multigpu_info', 'GL_ARB_sample_shading', 'GL_ARB_explicit_uniform_location', 'GL_ARB_blend_func_extended', 'GL_ARB_copy_buffer', 'GL_NV_shader_texture_footprint', 'GL_ARB_vertex_shader'}\n",
      "(0, 0, 1024, 1024)\n",
      "None\n"
     ]
    }
   ],
   "source": [
    "print(ctx.extensions)\n",
    "print(ctx.viewport)\n",
    "print(ctx.extra)"
   ],
   "metadata": {
    "collapsed": false,
    "ExecuteTime": {
     "end_time": "2023-10-01T02:11:57.535292700Z",
     "start_time": "2023-10-01T02:11:57.524465500Z"
    }
   },
   "id": "2d38e2d5b74a2950"
  },
  {
   "cell_type": "markdown",
   "source": [
    "Exciting! So it seems that headless OpenGL rendering does indeed work with Google Colab (even when using a Colab session without a GPU surprisingly). Another thing to keep in mind though is that different platforms will have different capabilities, and we'll have to work out how to either handle those as errors (trying to allocate too many OpenGL buffers/samplers) or provide fallbacks (eg: tiled rendering for cases where the resolution is too high (on my machine the limit is 32k\\*32k but on Colab the limit is 16k\\*16k (for framebuffers and textures)). \n",
    "\n",
    "Don't know if this will present a problem, but it could be useful to hint to the graphics driver which GPU we want to use in multi GPU systems (such as laptops). As it turns out this is actually not standardised at all, and quite difficult in OpenGL since we don't create the context with a specific adapter (unlike DirectX). On Windows when using an Nvidia GPU we can set the \"SHIM_MCCOMPAT=0x800000001\" environment variable to specify the dedicated GPU; I'm not sure this works on other platforms, it's not well documented. It seems to me that on Google Colab at the moment, it only uses the software renderer with OpenGL (the Mesa llvmpipe driver) even when a GPU environment is used. For the purposes of development and testing this is probably _fine_, but to actually be useful we should really try to get GPU support working. From what I've read, it should just work ([https://stackoverflow.com/a/60937358](https://stackoverflow.com/a/60937358)) so I'm not sure what's wrong..."
   ],
   "metadata": {
    "collapsed": false
   },
   "id": "a09055e07632d518"
  },
  {
   "cell_type": "markdown",
   "source": [
    "# ModernGL Threading"
   ],
   "metadata": {
    "collapsed": false
   },
   "id": "998531d10f14c9cc"
  },
  {
   "cell_type": "code",
   "execution_count": 11,
   "outputs": [],
   "source": [
    "#  Copyright (c) 2023 Thomas Mathieson.\n",
    "#  Distributed under the terms of the MIT license.\n",
    "import logging\n",
    "import time\n",
    "\n",
    "import moderngl\n",
    "import numpy as np\n",
    "\n",
    "\n",
    "class SSVRenderOpenGL:\n",
    "    \"\"\"\n",
    "    A rendering backend for SSV based on OpenGL\n",
    "    \"\"\"\n",
    "\n",
    "    def __init__(self, resolution):\n",
    "        self.resolution = resolution\n",
    "        self.__create_context()\n",
    "        self.start_time = time.time()\n",
    "\n",
    "    def __create_context(self):\n",
    "        \"\"\"\n",
    "        Creates an OpenGL context and a framebuffer.\n",
    "        \"\"\"\n",
    "        self.ctx = moderngl.create_context(standalone=True)\n",
    "\n",
    "        # To use moderngl with threading we need call the garbage collector manually\n",
    "        self.ctx.gc_mode = \"context_gc\"\n",
    "\n",
    "        resolution = (min(self.resolution[0], self.ctx.info[\"GL_MAX_VIEWPORT_DIMS\"][0]),\n",
    "                      min(self.resolution[1], self.ctx.info[\"GL_MAX_VIEWPORT_DIMS\"][1]))\n",
    "        self.fbo = self.ctx.simple_framebuffer(resolution, components=4)\n",
    "        self.fbo.use()\n",
    "\n",
    "    def log_context_info(self, full=False):\n",
    "        \"\"\"\n",
    "        Logs the OpenGL information to the console for debugging.\n",
    "        :param full: whether to log *all* of the OpenGL context information (including extensions)\n",
    "        \"\"\"\n",
    "        print(f\"Got OpenGL context:\\n\"\n",
    "            f\"\\tGL_VENDOR={self.ctx.info['GL_VENDOR']}\\n\"\n",
    "            f\"\\tGL_RENDERER={self.ctx.info['GL_RENDERER']}\\n\"\n",
    "            f\"\\tGL_VERSION={self.ctx.info['GL_VERSION']}\")\n",
    "        if full:\n",
    "            from pprint import pformat\n",
    "            info = pformat(self.ctx.info, indent=4)\n",
    "            print(f\"Full info: \\n{info}\")\n",
    "            extensions = pformat(self.ctx.extensions, indent=4)\n",
    "            print(f\"GL Extensions: \\n{extensions}\")\n",
    "\n",
    "    def register_shader(self):\n",
    "        ...\n",
    "\n",
    "    def dbg_render_test(self):\n",
    "        # Create a vertex buffer\n",
    "        vertices = np.array([\n",
    "            # X      Y      R    G    B\n",
    "            -1.0, -1.0, 1.0, 0.0, 0.0,\n",
    "            1.0, -1.0, 0.0, 1.0, 0.0,\n",
    "            0.0, 1.0, 0.0, 0.0, 1.0],\n",
    "            dtype='f4',\n",
    "        )\n",
    "\n",
    "        prog = self.ctx.program(vertex_shader=\"\"\"\n",
    "        #version 330\n",
    "        in vec2 in_vert;\n",
    "        in vec3 in_color;\n",
    "        out vec3 color;\n",
    "        out vec2 position;\n",
    "        void main() {\n",
    "            gl_Position = vec4(in_vert, 0.0, 1.0);\n",
    "            color = in_color;\n",
    "            position = in_vert*0.5+0.5;\n",
    "        }\n",
    "        \"\"\",\n",
    "                                fragment_shader=\"\"\"\n",
    "        #version 330\n",
    "        out vec4 fragColor;\n",
    "        in vec3 color;\n",
    "        in vec2 position;\n",
    "\n",
    "        uniform vec2 iResolution;\n",
    "        uniform float iTime;\n",
    "\n",
    "        float amod(float x, float y)\n",
    "        {\n",
    "            return x - y * floor(x/y);\n",
    "        }\n",
    "\n",
    "        vec4 mainImage(in vec2 fragCoord)\n",
    "        {\n",
    "            // Normalized pixel coordinates (from 0 to 1)\n",
    "            vec2 uv = fragCoord/iResolution.xy;\n",
    "\n",
    "            float coord = floor(fragCoord.x) + floor(fragCoord.y/10.) + floor(iTime);\n",
    "            //vec3 col = vec3(amod(coord, 16.)>=8.?1.:0., amod(coord, 32.)>=16.?1.:0., amod(coord, 64.)>=32.?1.:0.);\n",
    "            //col = amod(coord, 128.)>64.?(col*0.3333+.3333):col;\n",
    "\n",
    "            vec3 col = vec3(amod(coord, 64.) >= 56. ? 1. : 0.,\n",
    "                            amod(coord + 16., 64.) >= 56. ? 1. : 0.,\n",
    "                            amod(coord + 32., 64.) >= 56. ? 1. : 0.);\n",
    "            col += amod(coord + 48., 64.) >= 56. ? 1. : 0.;\n",
    "            col = amod(coord, 128.) > 64. ? (col * 0.3333 + .3333) : col;\n",
    "\n",
    "            // Output to screen\n",
    "            return vec4(col,1.0);\n",
    "        }\n",
    "\n",
    "        void main() {\n",
    "            fragColor = mainImage(position * iResolution) + vec4(color, 1.0)*0.01;\n",
    "            //fragColor = vec4(color, 1.0);\n",
    "        }\n",
    "        \"\"\")\n",
    "\n",
    "        # Set uniforms\n",
    "        prog[\"iResolution\"].value = self.resolution\n",
    "        prog[\"iTime\"].value = time.time() - self.start_time\n",
    "\n",
    "        # Assign buffers and render\n",
    "        vao = self.ctx.simple_vertex_array(prog, self.ctx.buffer(vertices), 'in_vert', 'in_color')\n",
    "        vao.render(mode=moderngl.TRIANGLES)\n",
    "\n",
    "    def get_frame(self):\n",
    "        \"\"\"\n",
    "        Gets the current contents of the frame buffer as a byte array.\n",
    "        :return: the contents of the frame buffer as a bytearray in the ``RGBA`` format.\n",
    "        \"\"\"\n",
    "        return self.fbo.read(components=4)\n"
   ],
   "metadata": {
    "collapsed": false,
    "ExecuteTime": {
     "end_time": "2023-10-10T09:04:32.813427800Z",
     "start_time": "2023-10-10T09:04:32.793415200Z"
    }
   },
   "id": "52058ff2e5befd1f"
  },
  {
   "cell_type": "code",
   "execution_count": 12,
   "outputs": [
    {
     "name": "stderr",
     "output_type": "stream",
     "text": [
      "Traceback (most recent call last):\n",
      "  File \"C:\\Users\\Thoma\\.conda\\envs\\IndProject\\lib\\threading.py\", line 953, in run\n",
      "    self._target(*self._args, **self._kwargs)\n",
      "  File \"C:\\Users\\Thoma\\AppData\\Local\\Temp\\ipykernel_49268\\2383715671.py\", line 12, in __render_loop\n",
      "  File \"C:\\Users\\Thoma\\AppData\\Local\\Temp\\ipykernel_49268\\740362812.py\", line 63, in dbg_render_test\n",
      "  File \"C:\\Users\\Thoma\\.conda\\envs\\IndProject\\lib\\site-packages\\moderngl\\__init__.py\", line 1939, in program\n",
      "    res.mglo, res._members, res._subroutines, res._geom, res._glo = self.mglo.program(\n",
      "_moderngl.Error: cannot create program\n"
     ]
    }
   ],
   "source": [
    "import threading\n",
    "\n",
    "\n",
    "renderer = SSVRenderOpenGL((640,480))\n",
    "\n",
    "def __render_loop(exit_flag):\n",
    "    target_framerate = 60\n",
    "    last_frame_time = time.time()\n",
    "    timeout = 0\n",
    "    delta_time = 1/target_framerate\n",
    "    while not exit_flag.wait(timeout=timeout):\n",
    "        renderer.dbg_render_test()\n",
    "\n",
    "        current_time = time.time()\n",
    "        delta_time = current_time - last_frame_time\n",
    "        timeout = max(1/target_framerate - delta_time, 0)\n",
    "        last_frame_time = current_time\n",
    "        break\n",
    "\n",
    "def run():\n",
    "    exit_flag = threading.Event()\n",
    "    thread = threading.Thread(target=__render_loop, args=(exit_flag,))\n",
    "\n",
    "    # __render_loop(exit_flag)\n",
    "\n",
    "    thread.start()\n",
    "    # self.__render_loop(exit_flag)\n",
    "    \n",
    "run()"
   ],
   "metadata": {
    "collapsed": false,
    "ExecuteTime": {
     "start_time": "2023-10-10T09:04:34.960644900Z"
    }
   },
   "id": "98b8642b6737f701"
  },
  {
   "cell_type": "code",
   "execution_count": null,
   "outputs": [],
   "source": [],
   "metadata": {
    "collapsed": false
   },
   "id": "5518cad43a3a37c4"
  },
  {
   "cell_type": "markdown",
   "source": [
    "## Multiprocessing Experiments"
   ],
   "metadata": {
    "collapsed": false
   },
   "id": "c133ce4fa2dc4313"
  },
  {
   "cell_type": "code",
   "execution_count": 12,
   "outputs": [
    {
     "name": "stdout",
     "output_type": "stream",
     "text": [
      "<__main__.FooMP object at 0x00000283BE086F50> FooMP init\n",
      "Test\n"
     ]
    }
   ],
   "source": [
    "from multiprocessing import Process, Queue\n",
    "\n",
    "class FooMP:\n",
    "    def __init__(self):\n",
    "        print(self, f\"FooMP init\")\n",
    "        proc1 = Process(target=self.test1)\n",
    "        proc1.start()\n",
    "        proc1.join()\n",
    "    \n",
    "    def test(self):\n",
    "        print(self, \"test\")\n",
    "        \n",
    "    def test1(self):\n",
    "        print(self, \"test1\")\n",
    "        \n",
    "foo = FooMP()\n",
    "\n",
    "proc = Process(target=foo.test)\n",
    "proc.start()\n",
    "proc.join()\n",
    "print(\"Test\")"
   ],
   "metadata": {
    "collapsed": false,
    "ExecuteTime": {
     "end_time": "2023-10-17T09:34:33.290352Z",
     "start_time": "2023-10-17T09:34:33.142850Z"
    }
   },
   "id": "46f4b32be8ed0d6b"
  },
  {
   "cell_type": "code",
   "execution_count": null,
   "outputs": [],
   "source": [],
   "metadata": {
    "collapsed": false
   },
   "id": "cd63679230081bbe"
  },
  {
   "cell_type": "markdown",
   "source": [
    "## Shader Preprocessing Experiments"
   ],
   "metadata": {
    "collapsed": false
   },
   "id": "a58e2f1b64067c17"
  },
  {
   "cell_type": "code",
   "execution_count": 13,
   "outputs": [
    {
     "name": "stdout",
     "output_type": "stream",
     "text": [
      "Collecting pcpp\n",
      "  Downloading pcpp-1.30-py2.py3-none-any.whl (91 kB)\n",
      "     ---------------------------------------- 0.0/91.1 kB ? eta -:--:--\n",
      "     ------------ ------------------------- 30.7/91.1 kB 445.2 kB/s eta 0:00:01\n",
      "     ---------------------------------------- 91.1/91.1 kB 1.0 MB/s eta 0:00:00\n",
      "Installing collected packages: pcpp\n",
      "Successfully installed pcpp-1.30\n",
      "Note: you may need to restart the kernel to use updated packages.\n"
     ]
    }
   ],
   "source": [
    "%pip install pcpp"
   ],
   "metadata": {
    "collapsed": false,
    "ExecuteTime": {
     "end_time": "2023-10-17T11:09:53.761126200Z",
     "start_time": "2023-10-17T11:09:51.169085500Z"
    }
   },
   "id": "106f77d7695ffef9"
  },
  {
   "cell_type": "code",
   "execution_count": 77,
   "outputs": [],
   "source": [
    "import pcpp\n",
    "import argparse\n",
    "\n",
    "class ShaderPreprocessor(pcpp.Preprocessor):\n",
    "    def __init__(self):\n",
    "        super(ShaderPreprocessor, self).__init__()\n",
    "        # Define any built in macros/includes\n",
    "        \n",
    "        # Pragma parser\n",
    "        self.pragma_parse = argparse.ArgumentParser(prog=\"SSV Shader Preprocessor\")\n",
    "        sub_parsers = self.pragma_parse.add_subparsers(help=\"template generation command help\", dest=\"command\")\n",
    "        pixel_parser = sub_parsers.add_parser(\"pixel\", help=\"define the entrypoint for a pixel shader\")\n",
    "        pixel_parser.add_argument(\"function\", type=str)\n",
    "        vertex_parser = sub_parsers.add_parser(\"vertex\", help=\"define the entrypoint for a vertex shader\")\n",
    "        vertex_parser.add_argument(\"function\", type=str)\n",
    "        sdf_parser = sub_parsers.add_parser(\"sdf\", help=\"define the entrypoint for an sdf shader\")\n",
    "        sdf_parser.add_argument(\"function\", type=str)\n",
    "        sdf_parser.add_argument(\"--sdf_normal\", type=str)\n",
    "        sdf_parser.add_argument(\"--display_mode\", choices=[\"solid\", \"xray\", \"isolines\", \"2d\"])\n",
    "        sdf_parser.add_argument(\"--surface_offset\", type=str)\n",
    "        self.pragma_args = []\n",
    "        \n",
    "    def on_directive_unknown(self, directive, toks, ifpassthru, precedingtoks):\n",
    "        if directive.value != \"pragma\":\n",
    "            return super(ShaderPreprocessor, self).on_directive_unknown(directive, toks, ifpassthru, precedingtoks)\n",
    "        \n",
    "        if not (len(toks) > 2 and toks[0].value == \"SSV\"):\n",
    "            return super(ShaderPreprocessor, self).on_directive_unknown(directive, toks, ifpassthru, precedingtoks)\n",
    "        \n",
    "        tok_strs = [t.value for t in toks[2:]]\n",
    "        # print(f\"Found SSV pragma: {''.join(tok_strs)}\")\n",
    "        self.pragma_args.append(''.join(tok_strs))\n",
    "        \n",
    "    def write(self, oh=sys.stdout):\n",
    "        # Prefixed template code\n",
    "        \n",
    "        # Output the preprocessed code\n",
    "        super(ShaderPreprocessor, self).write(oh)\n",
    "        # Suffixed template code\n",
    "        \n",
    "        print(\"\\n############\\n\")\n",
    "        print(\"Found following SSV pragmas: \")\n",
    "        for pragma in self.pragma_args:\n",
    "            args = self.pragma_parse.parse_args(pragma.split())\n",
    "            print(\"\\t\", args)"
   ],
   "metadata": {
    "collapsed": false,
    "ExecuteTime": {
     "end_time": "2023-10-17T12:45:44.522457300Z",
     "start_time": "2023-10-17T12:45:44.508494400Z"
    }
   },
   "id": "367bda3ea001875d"
  },
  {
   "cell_type": "code",
   "execution_count": 78,
   "outputs": [],
   "source": [
    "shader = \"\"\"\n",
    "#pragma SSV pixel main_ps\n",
    "#pragma SSV vertex main_vs\n",
    "#pragma SSV sdf map --display_mode solid --surface_offset u_offset --sdf_normal map_nrm\n",
    "#define saturate(x) clamp((x), 0., 1.)\n",
    "\n",
    "void main_vs(in vec4 pos, out VertexOut out) {\n",
    "    out.pos = pos * mat_mvp;\n",
    "    out.color = pos.xy;\n",
    "}\n",
    "\n",
    "void main_ps(in VertexOut vert, in vec2 fragCoord, out vec4 fragColor) {\n",
    "    fragColor = saturate(vert.color);\n",
    "}\n",
    "\n",
    "float map(vec3 pos) {\n",
    "    pos = fract(pos) * 2. - 1.;\n",
    "    return length(pos) - 0.25;\n",
    "}\n",
    "\n",
    "vec3 map_nrm(vec3 pos) {\n",
    "    return vec3(1., 0., 0.);\n",
    "}\n",
    "\"\"\""
   ],
   "metadata": {
    "collapsed": false,
    "ExecuteTime": {
     "end_time": "2023-10-17T12:45:45.046702200Z",
     "start_time": "2023-10-17T12:45:45.039714800Z"
    }
   },
   "id": "b3b1c67559804ce2"
  },
  {
   "cell_type": "code",
   "execution_count": 79,
   "outputs": [
    {
     "name": "stdout",
     "output_type": "stream",
     "text": [
      "\n",
      "#pragma SSV pixel main_ps\n",
      "#pragma SSV vertex main_vs\n",
      "#pragma SSV sdf map --display_mode solid --surface_offset u_offset --sdf_normal map_nrm\n",
      "\n",
      "\n",
      "void main_vs(in vec4 pos, out VertexOut out) {\n",
      "    out.pos = pos * mat_mvp;\n",
      "    out.color = pos.xy;\n",
      "}\n",
      "\n",
      "void main_ps(in VertexOut vert, in vec2 fragCoord, out vec4 fragColor) {\n",
      "    fragColor = clamp((vert.color), 0., 1.);\n",
      "}\n",
      "\n",
      "float map(vec3 pos) {\n",
      "    pos = fract(pos) * 2. - 1.;\n",
      "    return length(pos) - 0.25;\n",
      "}\n",
      "\n",
      "vec3 map_nrm(vec3 pos) {\n",
      "    return vec3(1., 0., 0.);\n",
      "}\n",
      "\n",
      "############\n",
      "\n",
      "Found following SSV pragmas: \n",
      "\t Namespace(command='pixel', function='main_ps')\n",
      "\t Namespace(command='vertex', function='main_vs')\n",
      "\t Namespace(command='sdf', function='map', sdf_normal='map_nrm', display_mode='solid', surface_offset='u_offset')\n"
     ]
    }
   ],
   "source": [
    "preproc = ShaderPreprocessor()\n",
    "preproc.parse(shader)\n",
    "preproc.write(sys.stdout)"
   ],
   "metadata": {
    "collapsed": false,
    "ExecuteTime": {
     "end_time": "2023-10-17T12:45:45.562194300Z",
     "start_time": "2023-10-17T12:45:45.536746800Z"
    }
   },
   "id": "69121a2cd0ab30cc"
  },
  {
   "cell_type": "code",
   "execution_count": 13,
   "outputs": [
    {
     "data": {
      "text/plain": "Namespace(template_name='pixel', argument=[['entrypoint'], ['_varying_struct', 'type', 'str']])"
     },
     "execution_count": 13,
     "metadata": {},
     "output_type": "execute_result"
    }
   ],
   "source": [
    "import argparse\n",
    "\n",
    "template_args_src = \"pixel -a entrypoint -a _varying_struct --type str\"\n",
    "\n",
    "parser = argparse.ArgumentParser(\"SSV Template Engine\")\n",
    "parser.add_argument(\"template_name\", type=str)\n",
    "parser.add_argument(\"--argument\", \"-a\", nargs=\"+\", action=\"append\")\n",
    "\n",
    "param_parser = argparse.ArgumentParser(\"SSV Template Engine Argument\")\n",
    "param_parser.add_argument(\"name\", type=str)\n",
    "param_parser.add_argument(\"--type\", \"-t\", type=str)\n",
    "\n",
    "parser.parse_args(template_args_src.split())"
   ],
   "metadata": {
    "collapsed": false,
    "ExecuteTime": {
     "end_time": "2023-11-07T07:28:27.398141200Z",
     "start_time": "2023-11-07T07:28:27.374591400Z"
    }
   },
   "id": "cf2ae549c8e9bd6c"
  },
  {
   "cell_type": "code",
   "execution_count": null,
   "outputs": [],
   "source": [],
   "metadata": {
    "collapsed": false
   },
   "id": "ff27a836f246fc81"
  },
  {
   "cell_type": "markdown",
   "source": [
    "## HTTP Server Experiments"
   ],
   "metadata": {
    "collapsed": false
   },
   "id": "710564f1034efc8d"
  },
  {
   "cell_type": "code",
   "execution_count": 31,
   "outputs": [
    {
     "name": "stdout",
     "output_type": "stream",
     "text": [
      "Collecting avNote: you may need to restart the kernel to use updated packages.\n",
      "\n",
      "  Downloading av-11.0.0-cp311-cp311-win_amd64.whl.metadata (4.7 kB)\n",
      "Downloading av-11.0.0-cp311-cp311-win_amd64.whl (25.9 MB)\n",
      "   ---------------------------------------- 0.0/25.9 MB ? eta -:--:--\n",
      "   ---------------------------------------- 0.0/25.9 MB 1.4 MB/s eta 0:00:19\n",
      "    --------------------------------------- 0.3/25.9 MB 5.1 MB/s eta 0:00:05\n",
      "   - -------------------------------------- 0.8/25.9 MB 6.6 MB/s eta 0:00:04\n",
      "   -- ------------------------------------- 1.4/25.9 MB 8.1 MB/s eta 0:00:04\n",
      "   --- ------------------------------------ 2.1/25.9 MB 9.5 MB/s eta 0:00:03\n",
      "   ---- ----------------------------------- 2.9/25.9 MB 11.0 MB/s eta 0:00:03\n",
      "   ------ --------------------------------- 3.9/25.9 MB 12.5 MB/s eta 0:00:02\n",
      "   ------- -------------------------------- 5.0/25.9 MB 13.9 MB/s eta 0:00:02\n",
      "   --------- ------------------------------ 6.4/25.9 MB 15.7 MB/s eta 0:00:02\n",
      "   ------------ --------------------------- 8.1/25.9 MB 17.8 MB/s eta 0:00:02\n",
      "   --------------- ------------------------ 10.0/25.9 MB 19.9 MB/s eta 0:00:01\n",
      "   ------------------ --------------------- 12.2/25.9 MB 29.8 MB/s eta 0:00:01\n",
      "   ----------------------- ---------------- 14.9/25.9 MB 40.9 MB/s eta 0:00:01\n",
      "   --------------------------- ------------ 18.0/25.9 MB 50.4 MB/s eta 0:00:01\n",
      "   -------------------------------- ------- 21.4/25.9 MB 59.5 MB/s eta 0:00:01\n",
      "   -------------------------------------- - 25.1/25.9 MB 72.6 MB/s eta 0:00:01\n",
      "   ---------------------------------------  25.9/25.9 MB 81.8 MB/s eta 0:00:01\n",
      "   ---------------------------------------  25.9/25.9 MB 81.8 MB/s eta 0:00:01\n",
      "   ---------------------------------------- 25.9/25.9 MB 43.7 MB/s eta 0:00:00\n",
      "Installing collected packages: av\n",
      "Successfully installed av-11.0.0\n"
     ]
    }
   ],
   "source": [
    "%pip install av"
   ],
   "metadata": {
    "collapsed": false,
    "ExecuteTime": {
     "end_time": "2024-01-20T00:35:09.740984700Z",
     "start_time": "2024-01-20T00:35:05.557230100Z"
    }
   },
   "id": "55939150af508c7d"
  },
  {
   "cell_type": "code",
   "execution_count": 1,
   "outputs": [
    {
     "name": "stdout",
     "output_type": "stream",
     "text": [
      "Requirement already satisfied: portpicker in c:\\users\\thoma\\.conda\\envs\\pyssv-dev\\lib\\site-packages (1.6.0)\n",
      "Requirement already satisfied: psutil in c:\\users\\thoma\\.conda\\envs\\pyssv-dev\\lib\\site-packages (from portpicker) (5.9.5)\n",
      "Note: you may need to restart the kernel to use updated packages.\n"
     ]
    }
   ],
   "source": [
    "%pip install portpicker"
   ],
   "metadata": {
    "collapsed": false,
    "ExecuteTime": {
     "end_time": "2024-01-19T21:39:14.542435800Z",
     "start_time": "2024-01-19T21:39:12.581246700Z"
    }
   },
   "id": "8b5e409655f2f1e5"
  },
  {
   "cell_type": "code",
   "execution_count": 31,
   "outputs": [
    {
     "name": "stdout",
     "output_type": "stream",
     "text": [
      "Encoded frame 4 packet 0 (2483)...\n",
      "Encoded frame 5 packet 0 (2474)...\n",
      "Encoded frame 6 packet 0 (2474)...\n",
      "Encoded frame 7 packet 0 (2474)...\n",
      "Encoded frame 8 packet 0 (2480)...\n",
      "Encoded frame 9 packet 0 (2530)...\n",
      "Encoded frame 10 packet 0 (2525)...\n",
      "Encoded frame 11 packet 0 (2553)...\n",
      "Encoded frame 12 packet 0 (2540)...\n",
      "Encoded frame 13 packet 0 (2542)...\n",
      "Encoded frame 14 packet 0 (2549)...\n",
      "Encoded frame 15 packet 0 (2546)...\n",
      "Encoded frame 16 packet 0 (2543)...\n",
      "Encoded frame 17 packet 0 (2544)...\n",
      "Encoded frame 18 packet 0 (2544)...\n",
      "Encoded frame 19 packet 0 (2541)...\n",
      "Encoded frame 20 packet 0 (2542)...\n",
      "Encoded frame 21 packet 0 (2542)...\n",
      "Encoded frame 22 packet 0 (2717)...\n",
      "Encoded frame 23 packet 0 (2547)...\n",
      "Encoded frame 24 packet 0 (2543)...\n",
      "Encoded frame 25 packet 0 (2543)...\n",
      "Encoded frame 26 packet 0 (2717)...\n",
      "Encoded frame 27 packet 0 (2542)...\n",
      "Encoded frame 28 packet 0 (2542)...\n",
      "Encoded frame 29 packet 0 (2541)...\n",
      "Encoded frame 30 packet 0 (2546)...\n",
      "Encoded frame 31 packet 0 (2542)...\n",
      "Encoded frame 32 packet 0 (2546)...\n",
      "Encoded frame 33 packet 0 (2681)...\n",
      "Encoded frame 34 packet 0 (2542)...\n",
      "Encoded frame 35 packet 0 (2542)...\n",
      "Encoded frame 36 packet 0 (2542)...\n",
      "Encoded frame 37 packet 0 (2542)...\n",
      "Encoded frame 38 packet 0 (2542)...\n",
      "Encoded frame 39 packet 0 (2681)...\n",
      "Encoded frame 40 packet 0 (2680)...\n",
      "Encoded frame 41 packet 0 (2541)...\n",
      "Encoded frame 42 packet 0 (2542)...\n",
      "Encoded frame 43 packet 0 (2543)...\n",
      "Encoded frame 44 packet 0 (2543)...\n",
      "Encoded frame 45 packet 0 (2543)...\n",
      "Encoded frame 46 packet 0 (2543)...\n",
      "Encoded frame 47 packet 0 (2543)...\n",
      "Encoded frame 48 packet 0 (2543)...\n",
      "Encoded frame 49 packet 0 (2543)...\n",
      "Encoded frame 50 packet 0 (2542)...\n",
      "Encoded frame 51 packet 0 (2542)...\n",
      "Encoded frame 52 packet 0 (2551)...\n",
      "Encoded frame 53 packet 0 (2542)...\n",
      "Encoded frame 54 packet 0 (2542)...\n",
      "Encoded frame 55 packet 0 (2542)...\n",
      "Encoded frame 56 packet 0 (2542)...\n",
      "Encoded frame 57 packet 0 (2542)...\n",
      "Encoded frame 58 packet 0 (2542)...\n",
      "Encoded frame 59 packet 0 (2682)...\n",
      "Encoded frame 60 packet 0 (2551)...\n",
      "Encoded frame 61 packet 0 (2551)...\n",
      "Encoded frame 62 packet 0 (2546)...\n",
      "Encoded frame 63 packet 0 (2543)...\n",
      "Encoded frame 64 packet 0 (2542)...\n",
      "Encoded frame 65 packet 0 (2542)...\n",
      "Encoded frame 66 packet 0 (2542)...\n",
      "Encoded frame 67 packet 0 (2543)...\n",
      "Encoded frame 68 packet 0 (2543)...\n",
      "Encoded frame 69 packet 0 (2543)...\n",
      "Encoded frame 70 packet 0 (2716)...\n",
      "Encoded frame 71 packet 0 (2872)...\n",
      "Encoded frame 72 packet 0 (2542)...\n",
      "Encoded frame 73 packet 0 (2542)...\n",
      "Encoded frame 74 packet 0 (2543)...\n",
      "Encoded frame 75 packet 0 (2543)...\n",
      "Encoded frame 76 packet 0 (2543)...\n",
      "Encoded frame 77 packet 0 (2547)...\n",
      "Encoded frame 78 packet 0 (2543)...\n",
      "Encoded frame 79 packet 0 (2543)...\n",
      "Encoded frame 80 packet 0 (2551)...\n",
      "Encoded frame 81 packet 0 (2543)...\n",
      "Encoded frame 82 packet 0 (2878)...\n",
      "Encoded frame 83 packet 0 (2549)...\n",
      "Encoded frame 84 packet 0 (2543)...\n",
      "Encoded frame 85 packet 0 (2543)...\n",
      "Encoded frame 86 packet 0 (2872)...\n",
      "Encoded frame 87 packet 0 (2543)...\n",
      "Encoded frame 88 packet 0 (2543)...\n",
      "Encoded frame 89 packet 0 (2549)...\n",
      "Encoded frame 90 packet 0 (2542)...\n",
      "Encoded frame 91 packet 0 (2541)...\n",
      "Encoded frame 92 packet 0 (2542)...\n",
      "Encoded frame 93 packet 0 (2542)...\n",
      "Encoded frame 94 packet 0 (2541)...\n",
      "Encoded frame 95 packet 0 (2681)...\n",
      "Encoded frame 96 packet 0 (2541)...\n",
      "Encoded frame 97 packet 0 (2541)...\n",
      "Encoded frame 98 packet 0 (2872)...\n",
      "Encoded frame 99 packet 0 (2541)...\n",
      "Encoded frame 100 packet 0 (2542)...\n",
      "Encoded frame 101 packet 0 (2542)...\n",
      "Encoded frame 102 packet 0 (2542)...\n",
      "Encoded frame 103 packet 0 (2547)...\n",
      "Encoded frame 104 packet 0 (2543)...\n",
      "Encoded frame 105 packet 0 (2543)...\n",
      "Encoded frame 106 packet 0 (2543)...\n",
      "Encoded frame 107 packet 0 (2543)...\n",
      "Encoded frame 108 packet 0 (2543)...\n",
      "Encoded frame 109 packet 0 (2543)...\n",
      "Encoded frame 110 packet 0 (2724)...\n",
      "Encoded frame 111 packet 0 (2547)...\n",
      "Encoded frame 112 packet 0 (2543)...\n",
      "Encoded frame 113 packet 0 (2543)...\n",
      "Encoded frame 114 packet 0 (2544)...\n",
      "Encoded frame 115 packet 0 (2543)...\n",
      "Encoded frame 116 packet 0 (2542)...\n",
      "Encoded frame 117 packet 0 (2542)...\n",
      "Encoded frame 118 packet 0 (2542)...\n",
      "Encoded frame 119 packet 0 (2542)...\n",
      "Wrote 120 frames into 0 bytes in 1182.77 ms. 9.86/16.67 ms/frame\n"
     ]
    }
   ],
   "source": [
    "import numpy as np\n",
    "import av\n",
    "import io\n",
    "from typing import Optional, AnyStr\n",
    "import time\n",
    "\n",
    "\n",
    "class HTTPStreamedIO(io.RawIOBase):\n",
    "    name: str = \"stream.ts\"\n",
    "    written: int = 0\n",
    "    \n",
    "    def writable(self) -> bool:\n",
    "        return True\n",
    "    \n",
    "    def readable(self) -> bool:\n",
    "        return False\n",
    "    \n",
    "    def write(self, __b: AnyStr) -> Optional[int]:\n",
    "        # print(f\"  Writing: {len(__b)} bytes...\")\n",
    "        self.written += len(__b)\n",
    "        return len(__b)\n",
    "\n",
    "\n",
    "# Code modified from: https://pyav.org/docs/stable/cookbook/numpy.html#generating-video\n",
    "duration = 2\n",
    "fps = 60\n",
    "total_frames = int(duration * fps)\n",
    "\n",
    "io_stream = HTTPStreamedIO()\n",
    "# container = av.open(io_stream, format=\"null\", mode=\"w\")\n",
    "# container = av.open(io_stream, format=\"data\", mode=\"w\")\n",
    "# container = av.open(io_stream, mode=\"w\")\n",
    "container = av.open(\"test3.mkv\", mode=\"w\")\n",
    "container.flags |= container.flags.FLUSH_PACKETS\n",
    "container.flags |= container.flags.NOBUFFER\n",
    "container.flags |= container.flags.CUSTOM_IO\n",
    "\n",
    "stream = container.add_stream(\"hevc\", rate=fps)\n",
    "# stream.format = av.format.ContainerFormat(\"data\", \"w\")\n",
    "stream.width = 480\n",
    "stream.height = 320\n",
    "stream.pix_fmt = \"yuv420p\"\n",
    "# stream.pix_fmt = \"yuv444p\"\n",
    "# stream.codec_context.flags |= stream.codec_context.flags.LOW_DELAY\n",
    "stream.options = {\"g\": \"1\", \"zerolatency\": \"1\", \"lag-in-frames\": \"1\"}\n",
    "# stream.options[\"color_range\"] = \"2\"\n",
    "# stream.options[\"strict_std_compliance\"] = \"unofficial\"\n",
    "\n",
    "imgs = []\n",
    "for frame_i in range(total_frames):\n",
    "    img = np.empty((480, 320, 3))\n",
    "    img[:, :, 0] = 0.5 + 0.5 * np.sin(2 * np.pi * (0 / 3 + frame_i / total_frames))\n",
    "    img[:, :, 1] = 0.5 + 0.5 * np.sin(2 * np.pi * (1 / 3 + frame_i / total_frames))\n",
    "    img[:, :, 2] = 0.5 + 0.5 * np.sin(2 * np.pi * (2 / 3 + frame_i / total_frames))\n",
    "\n",
    "    img = np.round(255 * img).astype(np.uint8)\n",
    "    img = np.clip(img, 0, 255)\n",
    "    imgs.append(img)\n",
    "\n",
    "start_time = time.perf_counter()\n",
    "for frame_i in range(total_frames):\n",
    "    img = imgs[frame_i]\n",
    "    frame = av.VideoFrame.from_ndarray(img, format=\"rgb24\")\n",
    "    for i, packet in enumerate(stream.encode(frame)):\n",
    "        print(f\"Encoded frame {frame_i} packet {i} ({len(bytes(packet))})...\")\n",
    "        container.mux(packet)\n",
    "\n",
    "# Flush stream\n",
    "for i, packet in enumerate(stream.encode()):\n",
    "    # print(f\"Flushing packet {i}...\")\n",
    "    container.mux(packet)\n",
    "\n",
    "# Close the file\n",
    "container.close()\n",
    "encode_time = time.perf_counter() - start_time\n",
    "print(f\"Wrote {total_frames} frames into {io_stream.written} bytes in {encode_time*1000:.2f} ms. {encode_time*1000/total_frames:.2f}/{1000/fps:.2f} ms/frame\")"
   ],
   "metadata": {
    "collapsed": false,
    "ExecuteTime": {
     "end_time": "2024-01-22T00:07:58.069253500Z",
     "start_time": "2024-01-22T00:07:56.099904Z"
    }
   },
   "id": "c8eb372a594d57fb"
  },
  {
   "cell_type": "code",
   "execution_count": 34,
   "outputs": [
    {
     "name": "stdout",
     "output_type": "stream",
     "text": [
      "151907\n",
      "Starting server on: localhost:49460\n"
     ]
    }
   ],
   "source": [
    "from PIL import Image\n",
    "from io import BytesIO\n",
    "\n",
    "from http.server import HTTPServer, BaseHTTPRequestHandler\n",
    "import portpicker\n",
    "import threading\n",
    "import socketserver\n",
    "import socket\n",
    "\n",
    "img = Image.open(\"openglHeadlessExample.png\")\n",
    "img = img.convert('RGB')\n",
    "img_bytes = BytesIO()\n",
    "quality = 75\n",
    "img.save(img_bytes, format='jpeg', quality=quality)\n",
    "img_bytes = img_bytes.getvalue()\n",
    "print(len(img_bytes))\n",
    "\n",
    "class SSVHTTPHandler(BaseHTTPRequestHandler):\n",
    "  def do_GET(self):\n",
    "      self.send_response(200)\n",
    "      self.send_header('x-colab-notebook-cache-control', 'no-cache')\n",
    "      self.send_header(\"content-type\", \"image/jpg\")\n",
    "      # self.send_header(\"content-length\", str(len(img_bytes)))\n",
    "      self.end_headers()\n",
    "      self.wfile.write(img_bytes)\n",
    "\n",
    "port = portpicker.pick_unused_port()\n",
    "print(f\"Starting server on: localhost:{port}\")\n",
    "\n",
    "def http_server_run():\n",
    "    http_server = HTTPServer(('localhost', port), SSVHTTPHandler)\n",
    "    http_server.serve_forever()\n",
    "\n",
    "# http_server_run()\n",
    "thread = threading.Thread(target=http_server_run)\n",
    "thread.start()"
   ],
   "metadata": {
    "collapsed": false,
    "ExecuteTime": {
     "end_time": "2024-01-21T03:31:52.867530400Z",
     "start_time": "2024-01-21T03:31:52.773031100Z"
    }
   },
   "id": "aa375eaad96be84b"
  },
  {
   "cell_type": "code",
   "execution_count": 70,
   "outputs": [
    {
     "data": {
      "text/plain": "<IPython.core.display.HTML object>",
      "text/html": "\n<div id='ssv-test'>Hello</div>\n<img id='ssv-test1' src='https://localhost:58583/'></img>\n"
     },
     "metadata": {},
     "output_type": "display_data"
    },
    {
     "data": {
      "text/plain": "<IPython.core.display.Javascript object>",
      "application/javascript": "\nlet e = document.getElementById(\"ssv-test\");\ne.style.fontSize = \"20pt\";\n"
     },
     "metadata": {},
     "output_type": "display_data"
    }
   ],
   "source": [
    "from IPython.display import display, Javascript, HTML\n",
    "\n",
    "display(HTML(\"\"\"\n",
    "<div id='ssv-test'>Hello</div>\n",
    "<img id='ssv-test1' src='https://localhost:58583/'></img>\n",
    "\"\"\"))\n",
    "\n",
    "display(Javascript('''\n",
    "let e = document.getElementById(\"ssv-test\");\n",
    "e.style.fontSize = \"20pt\";\n",
    "'''))"
   ],
   "metadata": {
    "collapsed": false,
    "ExecuteTime": {
     "end_time": "2024-01-21T04:58:14.848713700Z",
     "start_time": "2024-01-21T04:58:14.839405800Z"
    }
   },
   "id": "e820fd9cbd0b5699"
  },
  {
   "cell_type": "code",
   "execution_count": 71,
   "outputs": [
    {
     "name": "stdout",
     "output_type": "stream",
     "text": [
      "Starting server on: localhost:53378\n"
     ]
    }
   ],
   "source": [
    "import asyncio\n",
    "from websockets.sync.server import serve\n",
    "import portpicker\n",
    "import threading\n",
    "\n",
    "def echo(websocket):\n",
    "    for message in websocket:\n",
    "        websocket.send(message)\n",
    "\n",
    "port = portpicker.pick_unused_port()\n",
    "print(f\"Starting server on: localhost:{port}\")\n",
    "\n",
    "def main():\n",
    "    with serve(echo, \"localhost\", port) as server:\n",
    "        server.serve_forever()\n",
    "\n",
    "# asyncio.run(main())\n",
    "thread = threading.Thread(target=main)\n",
    "thread.start()"
   ],
   "metadata": {
    "collapsed": false,
    "ExecuteTime": {
     "end_time": "2024-01-21T05:11:10.195539100Z",
     "start_time": "2024-01-21T05:11:09.932803Z"
    }
   },
   "id": "fdd32b385a8772e0"
  },
  {
   "cell_type": "code",
   "execution_count": 69,
   "outputs": [
    {
     "data": {
      "text/plain": "<IPython.core.display.HTML object>",
      "text/html": "\n<div id='ssv-test'>Hello</div>\n"
     },
     "metadata": {},
     "output_type": "display_data"
    },
    {
     "data": {
      "text/plain": "<IPython.core.display.Javascript object>",
      "application/javascript": "\nconst elm = document.getElementById(\"ssv-test\").innerText = \"Connecting to sever...\";\n\n// Create WebSocket connection.\nconst socket = new WebSocket(\"ws://127.0.0.1:52806\");\n\n// Connection opened\nsocket.addEventListener(\"open\", (event) => {\n  socket.send(\"Hello Server!\");\n  const elm = document.getElementById(\"ssv-test\").innerText = \"Connected to sever!\";\n});\n\nsocket.addEventListener(\"message\", (event) => {\n  console.log(\"Message from server \", event.data);\n  const elm = document.getElementById(\"ssv-test\").innerText = event.data;\n});\n"
     },
     "metadata": {},
     "output_type": "display_data"
    }
   ],
   "source": [
    "from IPython.display import display, Javascript, HTML\n",
    "\n",
    "display(HTML(\"\"\"\n",
    "<div id='ssv-test'>Hello</div>\n",
    "\"\"\"))\n",
    "display(Javascript(f\"\"\"\n",
    "const elm = document.getElementById(\"ssv-test\").innerText = \"Connecting to sever...\";\n",
    "\n",
    "// Create WebSocket connection.\n",
    "const socket = new WebSocket(\"ws://127.0.0.1:{port}\");\n",
    "\n",
    "// Connection opened\n",
    "socket.addEventListener(\"open\", (event) => {{\n",
    "  socket.send(\"Hello Server!\");\n",
    "  const elm = document.getElementById(\"ssv-test\").innerText = \"Connected to sever!\";\n",
    "}});\n",
    "\n",
    "socket.addEventListener(\"message\", (event) => {{\n",
    "  console.log(\"Message from server \", event.data);\n",
    "  const elm = document.getElementById(\"ssv-test\").innerText = event.data;\n",
    "}});\n",
    "\"\"\"))"
   ],
   "metadata": {
    "collapsed": false,
    "ExecuteTime": {
     "end_time": "2024-01-21T04:57:58.620268500Z",
     "start_time": "2024-01-21T04:57:58.612320500Z"
    }
   },
   "id": "9e99d7327e6a0879"
  },
  {
   "cell_type": "code",
   "execution_count": 1,
   "outputs": [
    {
     "name": "stdout",
     "output_type": "stream",
     "text": [
      "Starting server on: localhost:60793\n"
     ]
    }
   ],
   "source": [
    "from http.server import HTTPServer, BaseHTTPRequestHandler\n",
    "import portpicker\n",
    "import threading\n",
    "import time\n",
    "\n",
    "class SSVHTTPHandler1(BaseHTTPRequestHandler):\n",
    "  def do_GET(self):\n",
    "      self.send_response(200)\n",
    "      self.send_header('x-colab-notebook-cache-control', 'no-cache')\n",
    "      self.send_header(\"content-type\", \"text/plain\")\n",
    "      self.send_header(\"Access-Control-Allow-Origin\", \"*\")\n",
    "      # self.send_header(\"content-length\", str(12))\n",
    "      self.end_headers()\n",
    "      print(\"Starting sending...\")\n",
    "      # time.sleep(1)\n",
    "      self.wfile.write(b\"Testing \")\n",
    "      self.wfile.flush()\n",
    "      time.sleep(1)\n",
    "      self.wfile.write(b\"1\")\n",
    "      time.sleep(1)\n",
    "      self.wfile.write(b\"2\")\n",
    "      time.sleep(1)\n",
    "      self.wfile.write(b\"3\")\n",
    "      time.sleep(1)\n",
    "      self.wfile.write(b\"4\")\n",
    "      print(\"Finished sending...\")\n",
    "\n",
    "port = portpicker.pick_unused_port()\n",
    "print(f\"Starting server on: localhost:{port}\")\n",
    "\n",
    "if \"http_server\" in globals() and http_server is not None:\n",
    "    http_server.shutdown()\n",
    "http_server = None\n",
    "\n",
    "def http_server_run():\n",
    "    global http_server\n",
    "    http_server = HTTPServer(('localhost', port), SSVHTTPHandler1)\n",
    "    http_server.serve_forever()\n",
    "\n",
    "# http_server_run()\n",
    "thread = threading.Thread(target=http_server_run)\n",
    "thread.start()"
   ],
   "metadata": {
    "collapsed": false,
    "ExecuteTime": {
     "end_time": "2024-01-21T08:19:24.909465900Z",
     "start_time": "2024-01-21T08:19:24.901789100Z"
    }
   },
   "id": "45d2cd5be8135a54"
  },
  {
   "cell_type": "code",
   "execution_count": null,
   "outputs": [],
   "source": [],
   "metadata": {
    "collapsed": false
   },
   "id": "e4e962835693985c"
  }
 ],
 "metadata": {
  "kernelspec": {
   "display_name": "Python 3",
   "language": "python",
   "name": "python3"
  },
  "language_info": {
   "codemirror_mode": {
    "name": "ipython",
    "version": 2
   },
   "file_extension": ".py",
   "mimetype": "text/x-python",
   "name": "python",
   "nbconvert_exporter": "python",
   "pygments_lexer": "ipython2",
   "version": "2.7.6"
  }
 },
 "nbformat": 4,
 "nbformat_minor": 5
}
