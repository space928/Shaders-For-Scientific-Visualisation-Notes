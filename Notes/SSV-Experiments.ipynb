{
 "cells": [
  {
   "cell_type": "markdown",
   "source": [
    "# Small Experiments Pertaining to Shaders for Scientific Visualisation\n",
    "The contents of this notebook is neither documentation nor does it serve as permanent unit tests for the project. It's purely kept as a record of some of the experimentation done while working on this project."
   ],
   "metadata": {
    "collapsed": false
   },
   "id": "f1cef3c04282936"
  },
  {
   "cell_type": "markdown",
   "source": [
    "### Custom HTML Output in Jupyter"
   ],
   "metadata": {
    "collapsed": false
   },
   "id": "3b79aee7193b8a58"
  },
  {
   "cell_type": "code",
   "execution_count": 2,
   "outputs": [
    {
     "data": {
      "text/plain": "<__main__.CustomHTMLObject at 0x261cbec1820>",
      "text/html": "\n        <div class=\"custom-html-object\">\n            <div style=\"color: #ff2010;font-size: large;\">Custom HTML is cool!</div>\n        </div>"
     },
     "execution_count": 2,
     "metadata": {},
     "output_type": "execute_result"
    }
   ],
   "source": [
    "class CustomHTMLObject:\n",
    "    def __init__(self, name: str, colour: str):\n",
    "        \"\"\"\n",
    "        \n",
    "        :param name: The name of the object\n",
    "        :param colour: The hex colour code of the object (eg: \"#112233\")\n",
    "        \"\"\"\n",
    "        self.name = name\n",
    "        self.colour = colour\n",
    "        \n",
    "    def _repr_html_(self) -> str:\n",
    "        \"\"\"\n",
    "        Hooks into Jupyter notebook rich display system, which calls _repr_html_ by\n",
    "        default if an object is returned at the end of a cell.\n",
    "        \"\"\"\n",
    "        return f\"\"\"\n",
    "        <div class=\"custom-html-object\">\n",
    "            <div style=\"color: {self.colour};font-size: large;\">{self.name}</div>\n",
    "        </div>\"\"\"\n",
    "    \n",
    "# Now return a CustomHTMLObject to the cell\n",
    "CustomHTMLObject(\"Custom HTML is cool!\", \"#ff2010\")"
   ],
   "metadata": {
    "collapsed": false,
    "ExecuteTime": {
     "end_time": "2023-09-18T21:33:33.960781600Z",
     "start_time": "2023-09-18T21:33:33.932855300Z"
    }
   },
   "id": "61d5abcc8c068ff0"
  },
  {
   "cell_type": "code",
   "execution_count": null,
   "outputs": [],
   "source": [],
   "metadata": {
    "collapsed": false
   },
   "id": "f53a29bd86416c6b"
  }
 ],
 "metadata": {
  "kernelspec": {
   "display_name": "Python 3",
   "language": "python",
   "name": "python3"
  },
  "language_info": {
   "codemirror_mode": {
    "name": "ipython",
    "version": 2
   },
   "file_extension": ".py",
   "mimetype": "text/x-python",
   "name": "python",
   "nbconvert_exporter": "python",
   "pygments_lexer": "ipython2",
   "version": "2.7.6"
  }
 },
 "nbformat": 4,
 "nbformat_minor": 5
}
